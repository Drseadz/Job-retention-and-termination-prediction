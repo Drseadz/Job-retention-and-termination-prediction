{
  "cells": [
    {
      "cell_type": "markdown",
      "source": [
        "INTRODUCTION"
      ],
      "metadata": {
        "id": "sATglGwkDEEU"
      },
      "id": "sATglGwkDEEU"
    },
    {
      "cell_type": "markdown",
      "source": [
        "This notebook will focus on the dataset of employees within an organization and investigate the employment termination as well as predict future terminations and retention from the organization. Varables within the dataset will be used in this analysis.\n",
        "This notebook will go through making 3 machine learning models to predict employment termination based on knowledge of employees within the organization.\n",
        "\n",
        "\n",
        "\n",
        "**Research Analytical Questions**\n",
        "\n",
        "The detailed research would show the organization's heterogeneity, and it would also forecast the likelihood that an employee's contract would be terminated. The following research questions are needed to accomplish these goals:\n",
        "1.\tWhat is the diversity profile of the organization?\n",
        "2.\tWhat are the trends of employment losses in the organization?\n",
        "3.\tHow can we predict the job termination and retention of employees?\n"
      ],
      "metadata": {
        "id": "_sYJvfFbseOT"
      },
      "id": "_sYJvfFbseOT"
    },
    {
      "cell_type": "code",
      "execution_count": null,
      "id": "9a4e953e",
      "metadata": {
        "id": "9a4e953e"
      },
      "outputs": [],
      "source": [
        "#import libraries\n",
        "import numpy as np\n",
        "import pandas as pd\n",
        "import seaborn as sns\n",
        "import matplotlib.pyplot as plt\n",
        "%matplotlib inline\n",
        "from sklearn import preprocessing\n",
        "from sklearn.model_selection import train_test_split\n",
        "from sklearn.neighbors import KNeighborsClassifier\n",
        "from sklearn.tree import DecisionTreeClassifier\n",
        "from sklearn.ensemble import RandomForestClassifier\n",
        "from sklearn.metrics import confusion_matrix\n",
        "from sklearn.metrics import classification_report\n",
        "from scipy import stats"
      ]
    },
    {
      "cell_type": "code",
      "source": [
        "#loading the drive and mount\n",
        "from google.colab import drive\n",
        "drive.mount('/content/drive')"
      ],
      "metadata": {
        "colab": {
          "base_uri": "https://localhost:8080/"
        },
        "id": "YEVv8uTMy5ht",
        "outputId": "3191d0de-8421-4071-b6ba-8f53ac4ff4ea"
      },
      "id": "YEVv8uTMy5ht",
      "execution_count": null,
      "outputs": [
        {
          "output_type": "stream",
          "name": "stdout",
          "text": [
            "Mounted at /content/drive\n"
          ]
        }
      ]
    },
    {
      "cell_type": "code",
      "source": [
        "#changing the drive\n",
        "%cd \"/content/drive/My Drive/Colab\""
      ],
      "metadata": {
        "colab": {
          "base_uri": "https://localhost:8080/"
        },
        "id": "FlooqJIxy_rl",
        "outputId": "61f67baa-7ffe-4aed-c7e1-3ec6a93bb0fb"
      },
      "id": "FlooqJIxy_rl",
      "execution_count": null,
      "outputs": [
        {
          "output_type": "stream",
          "name": "stdout",
          "text": [
            "/content/drive/My Drive/Colab\n"
          ]
        }
      ]
    },
    {
      "cell_type": "code",
      "execution_count": null,
      "id": "975c599c",
      "metadata": {
        "id": "975c599c",
        "colab": {
          "base_uri": "https://localhost:8080/",
          "height": 369
        },
        "outputId": "6ada25b6-09b4-4fa4-829c-e893f386bf84"
      },
      "outputs": [
        {
          "output_type": "execute_result",
          "data": {
            "text/plain": [
              "              Employee_Name  EmpID  MarriedID  MaritalStatusID  GenderID  \\\n",
              "0       Adinolfi, Wilson  K  10026          0                0         1   \n",
              "1  Ait Sidi, Karthikeyan     10084          1                1         1   \n",
              "2         Akinkuolie, Sarah  10196          1                1         0   \n",
              "3              Alagbe,Trina  10088          1                1         0   \n",
              "4          Anderson, Carol   10069          0                2         0   \n",
              "\n",
              "   EmpStatusID  DeptID  PerfScoreID  FromDiversityJobFairID  Salary  ...  \\\n",
              "0            1       5            4                       0   62506  ...   \n",
              "1            5       3            3                       0  104437  ...   \n",
              "2            5       5            3                       0   64955  ...   \n",
              "3            1       5            3                       0   64991  ...   \n",
              "4            5       5            3                       0   50825  ...   \n",
              "\n",
              "      ManagerName  ManagerID RecruitmentSource PerformanceScore  \\\n",
              "0  Michael Albert       22.0          LinkedIn          Exceeds   \n",
              "1      Simon Roup        4.0            Indeed      Fully Meets   \n",
              "2  Kissy Sullivan       20.0          LinkedIn      Fully Meets   \n",
              "3    Elijiah Gray       16.0            Indeed      Fully Meets   \n",
              "4  Webster Butler       39.0     Google Search      Fully Meets   \n",
              "\n",
              "   EngagementSurvey EmpSatisfaction SpecialProjectsCount  \\\n",
              "0              4.60               5                    0   \n",
              "1              4.96               3                    6   \n",
              "2              3.02               3                    0   \n",
              "3              4.84               5                    0   \n",
              "4              5.00               4                    0   \n",
              "\n",
              "  LastPerformanceReview_Date DaysLateLast30 Absences  \n",
              "0                  1/17/2019              0        1  \n",
              "1                  2/24/2016              0       17  \n",
              "2                  5/15/2012              0        3  \n",
              "3                   1/3/2019              0       15  \n",
              "4                   2/1/2016              0        2  \n",
              "\n",
              "[5 rows x 36 columns]"
            ],
            "text/html": [
              "\n",
              "  <div id=\"df-d1fd5137-0a4f-463e-874a-d697cfd35d89\">\n",
              "    <div class=\"colab-df-container\">\n",
              "      <div>\n",
              "<style scoped>\n",
              "    .dataframe tbody tr th:only-of-type {\n",
              "        vertical-align: middle;\n",
              "    }\n",
              "\n",
              "    .dataframe tbody tr th {\n",
              "        vertical-align: top;\n",
              "    }\n",
              "\n",
              "    .dataframe thead th {\n",
              "        text-align: right;\n",
              "    }\n",
              "</style>\n",
              "<table border=\"1\" class=\"dataframe\">\n",
              "  <thead>\n",
              "    <tr style=\"text-align: right;\">\n",
              "      <th></th>\n",
              "      <th>Employee_Name</th>\n",
              "      <th>EmpID</th>\n",
              "      <th>MarriedID</th>\n",
              "      <th>MaritalStatusID</th>\n",
              "      <th>GenderID</th>\n",
              "      <th>EmpStatusID</th>\n",
              "      <th>DeptID</th>\n",
              "      <th>PerfScoreID</th>\n",
              "      <th>FromDiversityJobFairID</th>\n",
              "      <th>Salary</th>\n",
              "      <th>...</th>\n",
              "      <th>ManagerName</th>\n",
              "      <th>ManagerID</th>\n",
              "      <th>RecruitmentSource</th>\n",
              "      <th>PerformanceScore</th>\n",
              "      <th>EngagementSurvey</th>\n",
              "      <th>EmpSatisfaction</th>\n",
              "      <th>SpecialProjectsCount</th>\n",
              "      <th>LastPerformanceReview_Date</th>\n",
              "      <th>DaysLateLast30</th>\n",
              "      <th>Absences</th>\n",
              "    </tr>\n",
              "  </thead>\n",
              "  <tbody>\n",
              "    <tr>\n",
              "      <th>0</th>\n",
              "      <td>Adinolfi, Wilson  K</td>\n",
              "      <td>10026</td>\n",
              "      <td>0</td>\n",
              "      <td>0</td>\n",
              "      <td>1</td>\n",
              "      <td>1</td>\n",
              "      <td>5</td>\n",
              "      <td>4</td>\n",
              "      <td>0</td>\n",
              "      <td>62506</td>\n",
              "      <td>...</td>\n",
              "      <td>Michael Albert</td>\n",
              "      <td>22.0</td>\n",
              "      <td>LinkedIn</td>\n",
              "      <td>Exceeds</td>\n",
              "      <td>4.60</td>\n",
              "      <td>5</td>\n",
              "      <td>0</td>\n",
              "      <td>1/17/2019</td>\n",
              "      <td>0</td>\n",
              "      <td>1</td>\n",
              "    </tr>\n",
              "    <tr>\n",
              "      <th>1</th>\n",
              "      <td>Ait Sidi, Karthikeyan</td>\n",
              "      <td>10084</td>\n",
              "      <td>1</td>\n",
              "      <td>1</td>\n",
              "      <td>1</td>\n",
              "      <td>5</td>\n",
              "      <td>3</td>\n",
              "      <td>3</td>\n",
              "      <td>0</td>\n",
              "      <td>104437</td>\n",
              "      <td>...</td>\n",
              "      <td>Simon Roup</td>\n",
              "      <td>4.0</td>\n",
              "      <td>Indeed</td>\n",
              "      <td>Fully Meets</td>\n",
              "      <td>4.96</td>\n",
              "      <td>3</td>\n",
              "      <td>6</td>\n",
              "      <td>2/24/2016</td>\n",
              "      <td>0</td>\n",
              "      <td>17</td>\n",
              "    </tr>\n",
              "    <tr>\n",
              "      <th>2</th>\n",
              "      <td>Akinkuolie, Sarah</td>\n",
              "      <td>10196</td>\n",
              "      <td>1</td>\n",
              "      <td>1</td>\n",
              "      <td>0</td>\n",
              "      <td>5</td>\n",
              "      <td>5</td>\n",
              "      <td>3</td>\n",
              "      <td>0</td>\n",
              "      <td>64955</td>\n",
              "      <td>...</td>\n",
              "      <td>Kissy Sullivan</td>\n",
              "      <td>20.0</td>\n",
              "      <td>LinkedIn</td>\n",
              "      <td>Fully Meets</td>\n",
              "      <td>3.02</td>\n",
              "      <td>3</td>\n",
              "      <td>0</td>\n",
              "      <td>5/15/2012</td>\n",
              "      <td>0</td>\n",
              "      <td>3</td>\n",
              "    </tr>\n",
              "    <tr>\n",
              "      <th>3</th>\n",
              "      <td>Alagbe,Trina</td>\n",
              "      <td>10088</td>\n",
              "      <td>1</td>\n",
              "      <td>1</td>\n",
              "      <td>0</td>\n",
              "      <td>1</td>\n",
              "      <td>5</td>\n",
              "      <td>3</td>\n",
              "      <td>0</td>\n",
              "      <td>64991</td>\n",
              "      <td>...</td>\n",
              "      <td>Elijiah Gray</td>\n",
              "      <td>16.0</td>\n",
              "      <td>Indeed</td>\n",
              "      <td>Fully Meets</td>\n",
              "      <td>4.84</td>\n",
              "      <td>5</td>\n",
              "      <td>0</td>\n",
              "      <td>1/3/2019</td>\n",
              "      <td>0</td>\n",
              "      <td>15</td>\n",
              "    </tr>\n",
              "    <tr>\n",
              "      <th>4</th>\n",
              "      <td>Anderson, Carol</td>\n",
              "      <td>10069</td>\n",
              "      <td>0</td>\n",
              "      <td>2</td>\n",
              "      <td>0</td>\n",
              "      <td>5</td>\n",
              "      <td>5</td>\n",
              "      <td>3</td>\n",
              "      <td>0</td>\n",
              "      <td>50825</td>\n",
              "      <td>...</td>\n",
              "      <td>Webster Butler</td>\n",
              "      <td>39.0</td>\n",
              "      <td>Google Search</td>\n",
              "      <td>Fully Meets</td>\n",
              "      <td>5.00</td>\n",
              "      <td>4</td>\n",
              "      <td>0</td>\n",
              "      <td>2/1/2016</td>\n",
              "      <td>0</td>\n",
              "      <td>2</td>\n",
              "    </tr>\n",
              "  </tbody>\n",
              "</table>\n",
              "<p>5 rows × 36 columns</p>\n",
              "</div>\n",
              "      <button class=\"colab-df-convert\" onclick=\"convertToInteractive('df-d1fd5137-0a4f-463e-874a-d697cfd35d89')\"\n",
              "              title=\"Convert this dataframe to an interactive table.\"\n",
              "              style=\"display:none;\">\n",
              "        \n",
              "  <svg xmlns=\"http://www.w3.org/2000/svg\" height=\"24px\"viewBox=\"0 0 24 24\"\n",
              "       width=\"24px\">\n",
              "    <path d=\"M0 0h24v24H0V0z\" fill=\"none\"/>\n",
              "    <path d=\"M18.56 5.44l.94 2.06.94-2.06 2.06-.94-2.06-.94-.94-2.06-.94 2.06-2.06.94zm-11 1L8.5 8.5l.94-2.06 2.06-.94-2.06-.94L8.5 2.5l-.94 2.06-2.06.94zm10 10l.94 2.06.94-2.06 2.06-.94-2.06-.94-.94-2.06-.94 2.06-2.06.94z\"/><path d=\"M17.41 7.96l-1.37-1.37c-.4-.4-.92-.59-1.43-.59-.52 0-1.04.2-1.43.59L10.3 9.45l-7.72 7.72c-.78.78-.78 2.05 0 2.83L4 21.41c.39.39.9.59 1.41.59.51 0 1.02-.2 1.41-.59l7.78-7.78 2.81-2.81c.8-.78.8-2.07 0-2.86zM5.41 20L4 18.59l7.72-7.72 1.47 1.35L5.41 20z\"/>\n",
              "  </svg>\n",
              "      </button>\n",
              "      \n",
              "  <style>\n",
              "    .colab-df-container {\n",
              "      display:flex;\n",
              "      flex-wrap:wrap;\n",
              "      gap: 12px;\n",
              "    }\n",
              "\n",
              "    .colab-df-convert {\n",
              "      background-color: #E8F0FE;\n",
              "      border: none;\n",
              "      border-radius: 50%;\n",
              "      cursor: pointer;\n",
              "      display: none;\n",
              "      fill: #1967D2;\n",
              "      height: 32px;\n",
              "      padding: 0 0 0 0;\n",
              "      width: 32px;\n",
              "    }\n",
              "\n",
              "    .colab-df-convert:hover {\n",
              "      background-color: #E2EBFA;\n",
              "      box-shadow: 0px 1px 2px rgba(60, 64, 67, 0.3), 0px 1px 3px 1px rgba(60, 64, 67, 0.15);\n",
              "      fill: #174EA6;\n",
              "    }\n",
              "\n",
              "    [theme=dark] .colab-df-convert {\n",
              "      background-color: #3B4455;\n",
              "      fill: #D2E3FC;\n",
              "    }\n",
              "\n",
              "    [theme=dark] .colab-df-convert:hover {\n",
              "      background-color: #434B5C;\n",
              "      box-shadow: 0px 1px 3px 1px rgba(0, 0, 0, 0.15);\n",
              "      filter: drop-shadow(0px 1px 2px rgba(0, 0, 0, 0.3));\n",
              "      fill: #FFFFFF;\n",
              "    }\n",
              "  </style>\n",
              "\n",
              "      <script>\n",
              "        const buttonEl =\n",
              "          document.querySelector('#df-d1fd5137-0a4f-463e-874a-d697cfd35d89 button.colab-df-convert');\n",
              "        buttonEl.style.display =\n",
              "          google.colab.kernel.accessAllowed ? 'block' : 'none';\n",
              "\n",
              "        async function convertToInteractive(key) {\n",
              "          const element = document.querySelector('#df-d1fd5137-0a4f-463e-874a-d697cfd35d89');\n",
              "          const dataTable =\n",
              "            await google.colab.kernel.invokeFunction('convertToInteractive',\n",
              "                                                     [key], {});\n",
              "          if (!dataTable) return;\n",
              "\n",
              "          const docLinkHtml = 'Like what you see? Visit the ' +\n",
              "            '<a target=\"_blank\" href=https://colab.research.google.com/notebooks/data_table.ipynb>data table notebook</a>'\n",
              "            + ' to learn more about interactive tables.';\n",
              "          element.innerHTML = '';\n",
              "          dataTable['output_type'] = 'display_data';\n",
              "          await google.colab.output.renderOutput(dataTable, element);\n",
              "          const docLink = document.createElement('div');\n",
              "          docLink.innerHTML = docLinkHtml;\n",
              "          element.appendChild(docLink);\n",
              "        }\n",
              "      </script>\n",
              "    </div>\n",
              "  </div>\n",
              "  "
            ]
          },
          "metadata": {},
          "execution_count": 5
        }
      ],
      "source": [
        "#loading data set and viewing the first few rows\n",
        "df = pd.read_csv('HRDataset_v14.csv')\n",
        "df.head()"
      ]
    },
    {
      "cell_type": "markdown",
      "id": "8110095e",
      "metadata": {
        "id": "8110095e"
      },
      "source": [
        "PRE-PROCESSING AND EXPLORATORY DATA ANALYSIS OF DATASET"
      ]
    },
    {
      "cell_type": "code",
      "execution_count": null,
      "id": "d0ff9ad2",
      "metadata": {
        "colab": {
          "base_uri": "https://localhost:8080/"
        },
        "id": "d0ff9ad2",
        "outputId": "ecbc8780-b956-4d9b-c6f5-34ff646d6822"
      },
      "outputs": [
        {
          "output_type": "execute_result",
          "data": {
            "text/plain": [
              "(311, 36)"
            ]
          },
          "metadata": {},
          "execution_count": 6
        }
      ],
      "source": [
        "df.shape"
      ]
    },
    {
      "cell_type": "code",
      "execution_count": null,
      "id": "d867a83a",
      "metadata": {
        "colab": {
          "base_uri": "https://localhost:8080/"
        },
        "id": "d867a83a",
        "outputId": "46c4fabf-e2ce-4552-9251-722726bf99cb"
      },
      "outputs": [
        {
          "output_type": "stream",
          "name": "stdout",
          "text": [
            "<class 'pandas.core.frame.DataFrame'>\n",
            "RangeIndex: 311 entries, 0 to 310\n",
            "Data columns (total 36 columns):\n",
            " #   Column                      Non-Null Count  Dtype  \n",
            "---  ------                      --------------  -----  \n",
            " 0   Employee_Name               311 non-null    object \n",
            " 1   EmpID                       311 non-null    int64  \n",
            " 2   MarriedID                   311 non-null    int64  \n",
            " 3   MaritalStatusID             311 non-null    int64  \n",
            " 4   GenderID                    311 non-null    int64  \n",
            " 5   EmpStatusID                 311 non-null    int64  \n",
            " 6   DeptID                      311 non-null    int64  \n",
            " 7   PerfScoreID                 311 non-null    int64  \n",
            " 8   FromDiversityJobFairID      311 non-null    int64  \n",
            " 9   Salary                      311 non-null    int64  \n",
            " 10  Termd                       311 non-null    int64  \n",
            " 11  PositionID                  311 non-null    int64  \n",
            " 12  Position                    311 non-null    object \n",
            " 13  State                       311 non-null    object \n",
            " 14  Zip                         311 non-null    int64  \n",
            " 15  DOB                         311 non-null    object \n",
            " 16  Sex                         311 non-null    object \n",
            " 17  MaritalDesc                 311 non-null    object \n",
            " 18  CitizenDesc                 311 non-null    object \n",
            " 19  HispanicLatino              311 non-null    object \n",
            " 20  RaceDesc                    311 non-null    object \n",
            " 21  DateofHire                  311 non-null    object \n",
            " 22  DateofTermination           104 non-null    object \n",
            " 23  TermReason                  311 non-null    object \n",
            " 24  EmploymentStatus            311 non-null    object \n",
            " 25  Department                  311 non-null    object \n",
            " 26  ManagerName                 311 non-null    object \n",
            " 27  ManagerID                   303 non-null    float64\n",
            " 28  RecruitmentSource           311 non-null    object \n",
            " 29  PerformanceScore            311 non-null    object \n",
            " 30  EngagementSurvey            311 non-null    float64\n",
            " 31  EmpSatisfaction             311 non-null    int64  \n",
            " 32  SpecialProjectsCount        311 non-null    int64  \n",
            " 33  LastPerformanceReview_Date  311 non-null    object \n",
            " 34  DaysLateLast30              311 non-null    int64  \n",
            " 35  Absences                    311 non-null    int64  \n",
            "dtypes: float64(2), int64(16), object(18)\n",
            "memory usage: 87.6+ KB\n"
          ]
        }
      ],
      "source": [
        "df.info()"
      ]
    },
    {
      "cell_type": "markdown",
      "source": [
        "1. There are 311 rows and 36 columns in the dataset.\n",
        "2. 'EmpID' is for identification. It shouldn't be used for training the machine learning model but can be useful for filtering rows.\n",
        "3. 'DateofTermination' has 104 entries, unlike the others with entries. \n",
        "4. Few columns such as ‘Employee_Name’, ’MarriedID’, ‘MaritalStatusID’, ‘FromDiversityJobFairID’, ‘PositionID’, ‘Zip’, ‘HispanicLatino’, ‘DaysLateLast30’, will be dropped as part of the pre-processing, as they will not add to our insight.\n"
      ],
      "metadata": {
        "id": "Ztx-0kaqtolE"
      },
      "id": "Ztx-0kaqtolE"
    },
    {
      "cell_type": "markdown",
      "source": [
        "DROP REDUNDANT "
      ],
      "metadata": {
        "id": "tNVki79GCRUR"
      },
      "id": "tNVki79GCRUR"
    },
    {
      "cell_type": "code",
      "source": [
        "df = df.drop(columns=['Employee_Name','MarriedID','MaritalStatusID','PositionID','Zip','HispanicLatino','ManagerID','SpecialProjectsCount','DaysLateLast30','FromDiversityJobFairID']) "
      ],
      "metadata": {
        "id": "JQNff0oCCMug"
      },
      "id": "JQNff0oCCMug",
      "execution_count": null,
      "outputs": []
    },
    {
      "cell_type": "markdown",
      "id": "21c672b4",
      "metadata": {
        "id": "21c672b4"
      },
      "source": [
        "VERIFICATION OF NULL VALUES"
      ]
    },
    {
      "cell_type": "code",
      "execution_count": null,
      "id": "dccb1fe7",
      "metadata": {
        "colab": {
          "base_uri": "https://localhost:8080/"
        },
        "id": "dccb1fe7",
        "outputId": "94dac953-db93-42ef-9dda-408bc0ad0c09"
      },
      "outputs": [
        {
          "output_type": "execute_result",
          "data": {
            "text/plain": [
              "EmpID                           0\n",
              "GenderID                        0\n",
              "EmpStatusID                     0\n",
              "DeptID                          0\n",
              "PerfScoreID                     0\n",
              "Salary                          0\n",
              "Termd                           0\n",
              "Position                        0\n",
              "State                           0\n",
              "DOB                             0\n",
              "Sex                             0\n",
              "MaritalDesc                     0\n",
              "CitizenDesc                     0\n",
              "RaceDesc                        0\n",
              "DateofHire                      0\n",
              "DateofTermination             207\n",
              "TermReason                      0\n",
              "EmploymentStatus                0\n",
              "Department                      0\n",
              "ManagerName                     0\n",
              "RecruitmentSource               0\n",
              "PerformanceScore                0\n",
              "EngagementSurvey                0\n",
              "EmpSatisfaction                 0\n",
              "LastPerformanceReview_Date      0\n",
              "Absences                        0\n",
              "dtype: int64"
            ]
          },
          "metadata": {},
          "execution_count": 9
        }
      ],
      "source": [
        "df.isna().sum()"
      ]
    },
    {
      "cell_type": "markdown",
      "source": [
        "USING HEATMAP TO CHECK FOR NULL VALUES WITHIN  THE DATAFRAME"
      ],
      "metadata": {
        "id": "aWC4QpZYUZxt"
      },
      "id": "aWC4QpZYUZxt"
    },
    {
      "cell_type": "code",
      "source": [
        "#the yellow line indicates the null values \n",
        "plt.figure(figsize =(10, 6))\n",
        "sns.heatmap(df.isnull(), yticklabels=False,cbar=False,cmap='viridis')"
      ],
      "metadata": {
        "colab": {
          "base_uri": "https://localhost:8080/",
          "height": 529
        },
        "id": "FP1XnK04UDNn",
        "outputId": "1d98245b-0c2d-4398-d8b2-80aadfd6d4c1"
      },
      "id": "FP1XnK04UDNn",
      "execution_count": null,
      "outputs": [
        {
          "output_type": "execute_result",
          "data": {
            "text/plain": [
              "<matplotlib.axes._subplots.AxesSubplot at 0x7f52f4c40820>"
            ]
          },
          "metadata": {},
          "execution_count": 10
        },
        {
          "output_type": "display_data",
          "data": {
            "text/plain": [
              "<Figure size 720x432 with 1 Axes>"
            ],
            "image/png": "[encoded data removed]"
          },
          "metadata": {
            "needs_background": "light"
          }
        }
      ]
    },
    {
      "cell_type": "markdown",
      "source": [
        "This shows that 'DateofTermination' is the only column with missing values."
      ],
      "metadata": {
        "id": "fQDTpcRHKDvZ"
      },
      "id": "fQDTpcRHKDvZ"
    },
    {
      "cell_type": "code",
      "source": [
        "#checking for null values in the column\n",
        "date_term_na = df[df['DateofTermination'].isnull()]\n",
        "date_term_na.EmploymentStatus.value_counts()"
      ],
      "metadata": {
        "colab": {
          "base_uri": "https://localhost:8080/"
        },
        "id": "Zf_cBZOdKrku",
        "outputId": "68dd58d1-0798-4199-f0ef-34181322d4e4"
      },
      "id": "Zf_cBZOdKrku",
      "execution_count": null,
      "outputs": [
        {
          "output_type": "execute_result",
          "data": {
            "text/plain": [
              "Active    207\n",
              "Name: EmploymentStatus, dtype: int64"
            ]
          },
          "metadata": {},
          "execution_count": 11
        }
      ]
    },
    {
      "cell_type": "markdown",
      "source": [
        "The missing values occurs whenever 'EmploymentStatus' is 'Active'.It therefore seems sensible to keep the column as it is and not drop it, as dropping the null values will affect the structure of the data.\n",
        "\n",
        "Only employees whose employment is terminated has the valid entries for termination date ('DateofTermination')."
      ],
      "metadata": {
        "id": "01XSKDX7QsfK"
      },
      "id": "01XSKDX7QsfK"
    },
    {
      "cell_type": "markdown",
      "id": "af2f1501",
      "metadata": {
        "id": "af2f1501"
      },
      "source": [
        "SUMMARIZING THE DESCRIPTIVE STATISTICS OF NUMERICAL DATA \n",
        "\n",
        "---\n",
        "\n"
      ]
    },
    {
      "cell_type": "code",
      "execution_count": null,
      "id": "be6502f2",
      "metadata": {
        "colab": {
          "base_uri": "https://localhost:8080/",
          "height": 363
        },
        "id": "be6502f2",
        "outputId": "920b5405-9a2d-4064-cd07-68763f4a424c"
      },
      "outputs": [
        {
          "output_type": "execute_result",
          "data": {
            "text/plain": [
              "                  count          mean           std       min       25%  \\\n",
              "EmpID             311.0  10156.000000     89.922189  10001.00  10078.50   \n",
              "GenderID          311.0      0.434084      0.496435      0.00      0.00   \n",
              "EmpStatusID       311.0      2.392283      1.794383      1.00      1.00   \n",
              "DeptID            311.0      4.610932      1.083487      1.00      5.00   \n",
              "PerfScoreID       311.0      2.977492      0.587072      1.00      3.00   \n",
              "Salary            311.0  69020.684887  25156.636930  45046.00  55501.50   \n",
              "Termd             311.0      0.334405      0.472542      0.00      0.00   \n",
              "EngagementSurvey  311.0      4.110000      0.789938      1.12      3.69   \n",
              "EmpSatisfaction   311.0      3.890675      0.909241      1.00      3.00   \n",
              "Absences          311.0     10.237942      5.852596      1.00      5.00   \n",
              "\n",
              "                       50%      75%       max  \n",
              "EmpID             10156.00  10233.5   10311.0  \n",
              "GenderID              0.00      1.0       1.0  \n",
              "EmpStatusID           1.00      5.0       5.0  \n",
              "DeptID                5.00      5.0       6.0  \n",
              "PerfScoreID           3.00      3.0       4.0  \n",
              "Salary            62810.00  72036.0  250000.0  \n",
              "Termd                 0.00      1.0       1.0  \n",
              "EngagementSurvey      4.28      4.7       5.0  \n",
              "EmpSatisfaction       4.00      5.0       5.0  \n",
              "Absences             10.00     15.0      20.0  "
            ],
            "text/html": [
              "\n",
              "  <div id=\"df-755abb4d-8f0d-4809-8d6d-eaba79a06ca2\">\n",
              "    <div class=\"colab-df-container\">\n",
              "      <div>\n",
              "<style scoped>\n",
              "    .dataframe tbody tr th:only-of-type {\n",
              "        vertical-align: middle;\n",
              "    }\n",
              "\n",
              "    .dataframe tbody tr th {\n",
              "        vertical-align: top;\n",
              "    }\n",
              "\n",
              "    .dataframe thead th {\n",
              "        text-align: right;\n",
              "    }\n",
              "</style>\n",
              "<table border=\"1\" class=\"dataframe\">\n",
              "  <thead>\n",
              "    <tr style=\"text-align: right;\">\n",
              "      <th></th>\n",
              "      <th>count</th>\n",
              "      <th>mean</th>\n",
              "      <th>std</th>\n",
              "      <th>min</th>\n",
              "      <th>25%</th>\n",
              "      <th>50%</th>\n",
              "      <th>75%</th>\n",
              "      <th>max</th>\n",
              "    </tr>\n",
              "  </thead>\n",
              "  <tbody>\n",
              "    <tr>\n",
              "      <th>EmpID</th>\n",
              "      <td>311.0</td>\n",
              "      <td>10156.000000</td>\n",
              "      <td>89.922189</td>\n",
              "      <td>10001.00</td>\n",
              "      <td>10078.50</td>\n",
              "      <td>10156.00</td>\n",
              "      <td>10233.5</td>\n",
              "      <td>10311.0</td>\n",
              "    </tr>\n",
              "    <tr>\n",
              "      <th>GenderID</th>\n",
              "      <td>311.0</td>\n",
              "      <td>0.434084</td>\n",
              "      <td>0.496435</td>\n",
              "      <td>0.00</td>\n",
              "      <td>0.00</td>\n",
              "      <td>0.00</td>\n",
              "      <td>1.0</td>\n",
              "      <td>1.0</td>\n",
              "    </tr>\n",
              "    <tr>\n",
              "      <th>EmpStatusID</th>\n",
              "      <td>311.0</td>\n",
              "      <td>2.392283</td>\n",
              "      <td>1.794383</td>\n",
              "      <td>1.00</td>\n",
              "      <td>1.00</td>\n",
              "      <td>1.00</td>\n",
              "      <td>5.0</td>\n",
              "      <td>5.0</td>\n",
              "    </tr>\n",
              "    <tr>\n",
              "      <th>DeptID</th>\n",
              "      <td>311.0</td>\n",
              "      <td>4.610932</td>\n",
              "      <td>1.083487</td>\n",
              "      <td>1.00</td>\n",
              "      <td>5.00</td>\n",
              "      <td>5.00</td>\n",
              "      <td>5.0</td>\n",
              "      <td>6.0</td>\n",
              "    </tr>\n",
              "    <tr>\n",
              "      <th>PerfScoreID</th>\n",
              "      <td>311.0</td>\n",
              "      <td>2.977492</td>\n",
              "      <td>0.587072</td>\n",
              "      <td>1.00</td>\n",
              "      <td>3.00</td>\n",
              "      <td>3.00</td>\n",
              "      <td>3.0</td>\n",
              "      <td>4.0</td>\n",
              "    </tr>\n",
              "    <tr>\n",
              "      <th>Salary</th>\n",
              "      <td>311.0</td>\n",
              "      <td>69020.684887</td>\n",
              "      <td>25156.636930</td>\n",
              "      <td>45046.00</td>\n",
              "      <td>55501.50</td>\n",
              "      <td>62810.00</td>\n",
              "      <td>72036.0</td>\n",
              "      <td>250000.0</td>\n",
              "    </tr>\n",
              "    <tr>\n",
              "      <th>Termd</th>\n",
              "      <td>311.0</td>\n",
              "      <td>0.334405</td>\n",
              "      <td>0.472542</td>\n",
              "      <td>0.00</td>\n",
              "      <td>0.00</td>\n",
              "      <td>0.00</td>\n",
              "      <td>1.0</td>\n",
              "      <td>1.0</td>\n",
              "    </tr>\n",
              "    <tr>\n",
              "      <th>EngagementSurvey</th>\n",
              "      <td>311.0</td>\n",
              "      <td>4.110000</td>\n",
              "      <td>0.789938</td>\n",
              "      <td>1.12</td>\n",
              "      <td>3.69</td>\n",
              "      <td>4.28</td>\n",
              "      <td>4.7</td>\n",
              "      <td>5.0</td>\n",
              "    </tr>\n",
              "    <tr>\n",
              "      <th>EmpSatisfaction</th>\n",
              "      <td>311.0</td>\n",
              "      <td>3.890675</td>\n",
              "      <td>0.909241</td>\n",
              "      <td>1.00</td>\n",
              "      <td>3.00</td>\n",
              "      <td>4.00</td>\n",
              "      <td>5.0</td>\n",
              "      <td>5.0</td>\n",
              "    </tr>\n",
              "    <tr>\n",
              "      <th>Absences</th>\n",
              "      <td>311.0</td>\n",
              "      <td>10.237942</td>\n",
              "      <td>5.852596</td>\n",
              "      <td>1.00</td>\n",
              "      <td>5.00</td>\n",
              "      <td>10.00</td>\n",
              "      <td>15.0</td>\n",
              "      <td>20.0</td>\n",
              "    </tr>\n",
              "  </tbody>\n",
              "</table>\n",
              "</div>\n",
              "      <button class=\"colab-df-convert\" onclick=\"convertToInteractive('df-755abb4d-8f0d-4809-8d6d-eaba79a06ca2')\"\n",
              "              title=\"Convert this dataframe to an interactive table.\"\n",
              "              style=\"display:none;\">\n",
              "        \n",
              "  <svg xmlns=\"http://www.w3.org/2000/svg\" height=\"24px\"viewBox=\"0 0 24 24\"\n",
              "       width=\"24px\">\n",
              "    <path d=\"M0 0h24v24H0V0z\" fill=\"none\"/>\n",
              "    <path d=\"M18.56 5.44l.94 2.06.94-2.06 2.06-.94-2.06-.94-.94-2.06-.94 2.06-2.06.94zm-11 1L8.5 8.5l.94-2.06 2.06-.94-2.06-.94L8.5 2.5l-.94 2.06-2.06.94zm10 10l.94 2.06.94-2.06 2.06-.94-2.06-.94-.94-2.06-.94 2.06-2.06.94z\"/><path d=\"M17.41 7.96l-1.37-1.37c-.4-.4-.92-.59-1.43-.59-.52 0-1.04.2-1.43.59L10.3 9.45l-7.72 7.72c-.78.78-.78 2.05 0 2.83L4 21.41c.39.39.9.59 1.41.59.51 0 1.02-.2 1.41-.59l7.78-7.78 2.81-2.81c.8-.78.8-2.07 0-2.86zM5.41 20L4 18.59l7.72-7.72 1.47 1.35L5.41 20z\"/>\n",
              "  </svg>\n",
              "      </button>\n",
              "      \n",
              "  <style>\n",
              "    .colab-df-container {\n",
              "      display:flex;\n",
              "      flex-wrap:wrap;\n",
              "      gap: 12px;\n",
              "    }\n",
              "\n",
              "    .colab-df-convert {\n",
              "      background-color: #E8F0FE;\n",
              "      border: none;\n",
              "      border-radius: 50%;\n",
              "      cursor: pointer;\n",
              "      display: none;\n",
              "      fill: #1967D2;\n",
              "      height: 32px;\n",
              "      padding: 0 0 0 0;\n",
              "      width: 32px;\n",
              "    }\n",
              "\n",
              "    .colab-df-convert:hover {\n",
              "      background-color: #E2EBFA;\n",
              "      box-shadow: 0px 1px 2px rgba(60, 64, 67, 0.3), 0px 1px 3px 1px rgba(60, 64, 67, 0.15);\n",
              "      fill: #174EA6;\n",
              "    }\n",
              "\n",
              "    [theme=dark] .colab-df-convert {\n",
              "      background-color: #3B4455;\n",
              "      fill: #D2E3FC;\n",
              "    }\n",
              "\n",
              "    [theme=dark] .colab-df-convert:hover {\n",
              "      background-color: #434B5C;\n",
              "      box-shadow: 0px 1px 3px 1px rgba(0, 0, 0, 0.15);\n",
              "      filter: drop-shadow(0px 1px 2px rgba(0, 0, 0, 0.3));\n",
              "      fill: #FFFFFF;\n",
              "    }\n",
              "  </style>\n",
              "\n",
              "      <script>\n",
              "        const buttonEl =\n",
              "          document.querySelector('#df-755abb4d-8f0d-4809-8d6d-eaba79a06ca2 button.colab-df-convert');\n",
              "        buttonEl.style.display =\n",
              "          google.colab.kernel.accessAllowed ? 'block' : 'none';\n",
              "\n",
              "        async function convertToInteractive(key) {\n",
              "          const element = document.querySelector('#df-755abb4d-8f0d-4809-8d6d-eaba79a06ca2');\n",
              "          const dataTable =\n",
              "            await google.colab.kernel.invokeFunction('convertToInteractive',\n",
              "                                                     [key], {});\n",
              "          if (!dataTable) return;\n",
              "\n",
              "          const docLinkHtml = 'Like what you see? Visit the ' +\n",
              "            '<a target=\"_blank\" href=https://colab.research.google.com/notebooks/data_table.ipynb>data table notebook</a>'\n",
              "            + ' to learn more about interactive tables.';\n",
              "          element.innerHTML = '';\n",
              "          dataTable['output_type'] = 'display_data';\n",
              "          await google.colab.output.renderOutput(dataTable, element);\n",
              "          const docLink = document.createElement('div');\n",
              "          docLink.innerHTML = docLinkHtml;\n",
              "          element.appendChild(docLink);\n",
              "        }\n",
              "      </script>\n",
              "    </div>\n",
              "  </div>\n",
              "  "
            ]
          },
          "metadata": {},
          "execution_count": 12
        }
      ],
      "source": [
        "df.describe().transpose()"
      ]
    },
    {
      "cell_type": "markdown",
      "source": [
        "SUMMARIZING THE CATEGORICAL DATA"
      ],
      "metadata": {
        "id": "GN_IoffUfZRI"
      },
      "id": "GN_IoffUfZRI"
    },
    {
      "cell_type": "code",
      "source": [
        "df.describe(include=['O']).transpose()"
      ],
      "metadata": {
        "colab": {
          "base_uri": "https://localhost:8080/",
          "height": 551
        },
        "id": "3msjHYAceVQJ",
        "outputId": "a1954e51-c6a2-4f73-abe8-2d95c9c65334"
      },
      "id": "3msjHYAceVQJ",
      "execution_count": null,
      "outputs": [
        {
          "output_type": "execute_result",
          "data": {
            "text/plain": [
              "                           count unique                      top freq\n",
              "Position                     311     32  Production Technician I  137\n",
              "State                        311     28                       MA  276\n",
              "DOB                          311    307                 09/09/65    2\n",
              "Sex                          311      2                        F  176\n",
              "MaritalDesc                  311      5                   Single  137\n",
              "CitizenDesc                  311      3               US Citizen  295\n",
              "RaceDesc                     311      6                    White  187\n",
              "DateofHire                   311    101                1/10/2011   14\n",
              "DateofTermination            104     96                8/19/2018    2\n",
              "TermReason                   311     18        N/A-StillEmployed  207\n",
              "EmploymentStatus             311      3                   Active  207\n",
              "Department                   311      6        Production         209\n",
              "ManagerName                  311     21           Michael Albert   22\n",
              "RecruitmentSource            311      9                   Indeed   87\n",
              "PerformanceScore             311      4              Fully Meets  243\n",
              "LastPerformanceReview_Date   311    137                1/14/2019   18"
            ],
            "text/html": [
              "\n",
              "  <div id=\"df-a93050d8-cde5-473c-b9b0-04447ae3146e\">\n",
              "    <div class=\"colab-df-container\">\n",
              "      <div>\n",
              "<style scoped>\n",
              "    .dataframe tbody tr th:only-of-type {\n",
              "        vertical-align: middle;\n",
              "    }\n",
              "\n",
              "    .dataframe tbody tr th {\n",
              "        vertical-align: top;\n",
              "    }\n",
              "\n",
              "    .dataframe thead th {\n",
              "        text-align: right;\n",
              "    }\n",
              "</style>\n",
              "<table border=\"1\" class=\"dataframe\">\n",
              "  <thead>\n",
              "    <tr style=\"text-align: right;\">\n",
              "      <th></th>\n",
              "      <th>count</th>\n",
              "      <th>unique</th>\n",
              "      <th>top</th>\n",
              "      <th>freq</th>\n",
              "    </tr>\n",
              "  </thead>\n",
              "  <tbody>\n",
              "    <tr>\n",
              "      <th>Position</th>\n",
              "      <td>311</td>\n",
              "      <td>32</td>\n",
              "      <td>Production Technician I</td>\n",
              "      <td>137</td>\n",
              "    </tr>\n",
              "    <tr>\n",
              "      <th>State</th>\n",
              "      <td>311</td>\n",
              "      <td>28</td>\n",
              "      <td>MA</td>\n",
              "      <td>276</td>\n",
              "    </tr>\n",
              "    <tr>\n",
              "      <th>DOB</th>\n",
              "      <td>311</td>\n",
              "      <td>307</td>\n",
              "      <td>09/09/65</td>\n",
              "      <td>2</td>\n",
              "    </tr>\n",
              "    <tr>\n",
              "      <th>Sex</th>\n",
              "      <td>311</td>\n",
              "      <td>2</td>\n",
              "      <td>F</td>\n",
              "      <td>176</td>\n",
              "    </tr>\n",
              "    <tr>\n",
              "      <th>MaritalDesc</th>\n",
              "      <td>311</td>\n",
              "      <td>5</td>\n",
              "      <td>Single</td>\n",
              "      <td>137</td>\n",
              "    </tr>\n",
              "    <tr>\n",
              "      <th>CitizenDesc</th>\n",
              "      <td>311</td>\n",
              "      <td>3</td>\n",
              "      <td>US Citizen</td>\n",
              "      <td>295</td>\n",
              "    </tr>\n",
              "    <tr>\n",
              "      <th>RaceDesc</th>\n",
              "      <td>311</td>\n",
              "      <td>6</td>\n",
              "      <td>White</td>\n",
              "      <td>187</td>\n",
              "    </tr>\n",
              "    <tr>\n",
              "      <th>DateofHire</th>\n",
              "      <td>311</td>\n",
              "      <td>101</td>\n",
              "      <td>1/10/2011</td>\n",
              "      <td>14</td>\n",
              "    </tr>\n",
              "    <tr>\n",
              "      <th>DateofTermination</th>\n",
              "      <td>104</td>\n",
              "      <td>96</td>\n",
              "      <td>8/19/2018</td>\n",
              "      <td>2</td>\n",
              "    </tr>\n",
              "    <tr>\n",
              "      <th>TermReason</th>\n",
              "      <td>311</td>\n",
              "      <td>18</td>\n",
              "      <td>N/A-StillEmployed</td>\n",
              "      <td>207</td>\n",
              "    </tr>\n",
              "    <tr>\n",
              "      <th>EmploymentStatus</th>\n",
              "      <td>311</td>\n",
              "      <td>3</td>\n",
              "      <td>Active</td>\n",
              "      <td>207</td>\n",
              "    </tr>\n",
              "    <tr>\n",
              "      <th>Department</th>\n",
              "      <td>311</td>\n",
              "      <td>6</td>\n",
              "      <td>Production</td>\n",
              "      <td>209</td>\n",
              "    </tr>\n",
              "    <tr>\n",
              "      <th>ManagerName</th>\n",
              "      <td>311</td>\n",
              "      <td>21</td>\n",
              "      <td>Michael Albert</td>\n",
              "      <td>22</td>\n",
              "    </tr>\n",
              "    <tr>\n",
              "      <th>RecruitmentSource</th>\n",
              "      <td>311</td>\n",
              "      <td>9</td>\n",
              "      <td>Indeed</td>\n",
              "      <td>87</td>\n",
              "    </tr>\n",
              "    <tr>\n",
              "      <th>PerformanceScore</th>\n",
              "      <td>311</td>\n",
              "      <td>4</td>\n",
              "      <td>Fully Meets</td>\n",
              "      <td>243</td>\n",
              "    </tr>\n",
              "    <tr>\n",
              "      <th>LastPerformanceReview_Date</th>\n",
              "      <td>311</td>\n",
              "      <td>137</td>\n",
              "      <td>1/14/2019</td>\n",
              "      <td>18</td>\n",
              "    </tr>\n",
              "  </tbody>\n",
              "</table>\n",
              "</div>\n",
              "      <button class=\"colab-df-convert\" onclick=\"convertToInteractive('df-a93050d8-cde5-473c-b9b0-04447ae3146e')\"\n",
              "              title=\"Convert this dataframe to an interactive table.\"\n",
              "              style=\"display:none;\">\n",
              "        \n",
              "  <svg xmlns=\"http://www.w3.org/2000/svg\" height=\"24px\"viewBox=\"0 0 24 24\"\n",
              "       width=\"24px\">\n",
              "    <path d=\"M0 0h24v24H0V0z\" fill=\"none\"/>\n",
              "    <path d=\"M18.56 5.44l.94 2.06.94-2.06 2.06-.94-2.06-.94-.94-2.06-.94 2.06-2.06.94zm-11 1L8.5 8.5l.94-2.06 2.06-.94-2.06-.94L8.5 2.5l-.94 2.06-2.06.94zm10 10l.94 2.06.94-2.06 2.06-.94-2.06-.94-.94-2.06-.94 2.06-2.06.94z\"/><path d=\"M17.41 7.96l-1.37-1.37c-.4-.4-.92-.59-1.43-.59-.52 0-1.04.2-1.43.59L10.3 9.45l-7.72 7.72c-.78.78-.78 2.05 0 2.83L4 21.41c.39.39.9.59 1.41.59.51 0 1.02-.2 1.41-.59l7.78-7.78 2.81-2.81c.8-.78.8-2.07 0-2.86zM5.41 20L4 18.59l7.72-7.72 1.47 1.35L5.41 20z\"/>\n",
              "  </svg>\n",
              "      </button>\n",
              "      \n",
              "  <style>\n",
              "    .colab-df-container {\n",
              "      display:flex;\n",
              "      flex-wrap:wrap;\n",
              "      gap: 12px;\n",
              "    }\n",
              "\n",
              "    .colab-df-convert {\n",
              "      background-color: #E8F0FE;\n",
              "      border: none;\n",
              "      border-radius: 50%;\n",
              "      cursor: pointer;\n",
              "      display: none;\n",
              "      fill: #1967D2;\n",
              "      height: 32px;\n",
              "      padding: 0 0 0 0;\n",
              "      width: 32px;\n",
              "    }\n",
              "\n",
              "    .colab-df-convert:hover {\n",
              "      background-color: #E2EBFA;\n",
              "      box-shadow: 0px 1px 2px rgba(60, 64, 67, 0.3), 0px 1px 3px 1px rgba(60, 64, 67, 0.15);\n",
              "      fill: #174EA6;\n",
              "    }\n",
              "\n",
              "    [theme=dark] .colab-df-convert {\n",
              "      background-color: #3B4455;\n",
              "      fill: #D2E3FC;\n",
              "    }\n",
              "\n",
              "    [theme=dark] .colab-df-convert:hover {\n",
              "      background-color: #434B5C;\n",
              "      box-shadow: 0px 1px 3px 1px rgba(0, 0, 0, 0.15);\n",
              "      filter: drop-shadow(0px 1px 2px rgba(0, 0, 0, 0.3));\n",
              "      fill: #FFFFFF;\n",
              "    }\n",
              "  </style>\n",
              "\n",
              "      <script>\n",
              "        const buttonEl =\n",
              "          document.querySelector('#df-a93050d8-cde5-473c-b9b0-04447ae3146e button.colab-df-convert');\n",
              "        buttonEl.style.display =\n",
              "          google.colab.kernel.accessAllowed ? 'block' : 'none';\n",
              "\n",
              "        async function convertToInteractive(key) {\n",
              "          const element = document.querySelector('#df-a93050d8-cde5-473c-b9b0-04447ae3146e');\n",
              "          const dataTable =\n",
              "            await google.colab.kernel.invokeFunction('convertToInteractive',\n",
              "                                                     [key], {});\n",
              "          if (!dataTable) return;\n",
              "\n",
              "          const docLinkHtml = 'Like what you see? Visit the ' +\n",
              "            '<a target=\"_blank\" href=https://colab.research.google.com/notebooks/data_table.ipynb>data table notebook</a>'\n",
              "            + ' to learn more about interactive tables.';\n",
              "          element.innerHTML = '';\n",
              "          dataTable['output_type'] = 'display_data';\n",
              "          await google.colab.output.renderOutput(dataTable, element);\n",
              "          const docLink = document.createElement('div');\n",
              "          docLink.innerHTML = docLinkHtml;\n",
              "          element.appendChild(docLink);\n",
              "        }\n",
              "      </script>\n",
              "    </div>\n",
              "  </div>\n",
              "  "
            ]
          },
          "metadata": {},
          "execution_count": 13
        }
      ]
    },
    {
      "cell_type": "markdown",
      "id": "6da88e09",
      "metadata": {
        "id": "6da88e09"
      },
      "source": [
        "INSPECTING THE COLUMNS OF DATA"
      ]
    },
    {
      "cell_type": "code",
      "execution_count": null,
      "id": "7694139e",
      "metadata": {
        "colab": {
          "base_uri": "https://localhost:8080/"
        },
        "id": "7694139e",
        "outputId": "2aa337a1-54fd-4791-b0a9-c19e8a38b924"
      },
      "outputs": [
        {
          "output_type": "execute_result",
          "data": {
            "text/plain": [
              "Index(['EmpID', 'GenderID', 'EmpStatusID', 'DeptID', 'PerfScoreID', 'Salary',\n",
              "       'Termd', 'Position', 'State', 'DOB', 'Sex', 'MaritalDesc',\n",
              "       'CitizenDesc', 'RaceDesc', 'DateofHire', 'DateofTermination',\n",
              "       'TermReason', 'EmploymentStatus', 'Department', 'ManagerName',\n",
              "       'RecruitmentSource', 'PerformanceScore', 'EngagementSurvey',\n",
              "       'EmpSatisfaction', 'LastPerformanceReview_Date', 'Absences'],\n",
              "      dtype='object')"
            ]
          },
          "metadata": {},
          "execution_count": 14
        }
      ],
      "source": [
        "df.columns"
      ]
    },
    {
      "cell_type": "markdown",
      "id": "8565dd47",
      "metadata": {
        "id": "8565dd47"
      },
      "source": [
        "DIVERSITY PROFILE OF THE ORGANIZATION: UNDERSTANDING THE HETEROGENEITY OF THE ORGANIZATION WILL GIVE USE INSIGHT ABOUT DETAILS GIVEN IN THE DATASET. I WILL EXPLORE THE INTERNAL, EXTERNAL AND ORGANIZATIONAL DIVERSITY TO GET IMPORTANT INSIGHTS AND SUMMARY ABOUT EACH DIVERSITY IS DONE BELOW EAH SECTION "
      ]
    },
    {
      "cell_type": "markdown",
      "id": "1c950889",
      "metadata": {
        "id": "1c950889"
      },
      "source": [
        "**DEMOGRAPHY OF EMPLOYEES (INTERNAL DIVERSITY)**"
      ]
    },
    {
      "cell_type": "markdown",
      "id": "f083d1f0",
      "metadata": {
        "id": "f083d1f0"
      },
      "source": [
        "GENDER DISTRIBUTION IN THE ORGANIZATION"
      ]
    },
    {
      "cell_type": "code",
      "execution_count": null,
      "id": "1c411c7f",
      "metadata": {
        "colab": {
          "base_uri": "https://localhost:8080/",
          "height": 295
        },
        "id": "1c411c7f",
        "outputId": "aede09be-4060-4110-f3b6-de0460d8b5f4"
      },
      "outputs": [
        {
          "output_type": "display_data",
          "data": {
            "text/plain": [
              "<Figure size 576x288 with 1 Axes>"
            ],
            "image/png": "[encoded data removed]"
          },
          "metadata": {
            "needs_background": "light"
          }
        }
      ],
      "source": [
        "plt.figure(figsize =(8, 4))\n",
        "sns.countplot(x = 'Sex', data = df,  saturation = 1)\n",
        "plt.title('Gender of Employees within the Organization')\n",
        "plt.xlabel('Gender')\n",
        "plt.ylabel('Number of Employees')\n",
        "plt.show()"
      ]
    },
    {
      "cell_type": "markdown",
      "id": "9a0d0cb4",
      "metadata": {
        "id": "9a0d0cb4"
      },
      "source": [
        "GENDER DISTRIBUTION ACROSS DEPARTMENTS IN THE ORGANIZATION"
      ]
    },
    {
      "cell_type": "code",
      "execution_count": null,
      "id": "c1f98061",
      "metadata": {
        "colab": {
          "base_uri": "https://localhost:8080/",
          "height": 404
        },
        "id": "c1f98061",
        "outputId": "a4ee29ea-8a20-45f8-fbdc-b9c16f5bd133"
      },
      "outputs": [
        {
          "output_type": "display_data",
          "data": {
            "text/plain": [
              "<Figure size 720x432 with 1 Axes>"
            ],
            "image/png": "[encoded data removed]"
          },
          "metadata": {
            "needs_background": "light"
          }
        }
      ],
      "source": [
        "plt.figure(figsize =(10, 6))\n",
        "sns.countplot(x = 'Sex', hue = 'Department', data = df,  saturation = 1)\n",
        "plt.title('Gender of Employees across Departments in the Organization')\n",
        "plt.xlabel('Gender')\n",
        "plt.ylabel('Number of Employees')\n",
        "plt.show()"
      ]
    },
    {
      "cell_type": "markdown",
      "id": "7872b930",
      "metadata": {
        "id": "7872b930"
      },
      "source": [
        "RACE OF THE EMPLOYEES"
      ]
    },
    {
      "cell_type": "code",
      "execution_count": null,
      "id": "6d15c250",
      "metadata": {
        "colab": {
          "base_uri": "https://localhost:8080/",
          "height": 296
        },
        "id": "6d15c250",
        "outputId": "0af0eae9-fca3-4784-ab1a-e1374eb339d9"
      },
      "outputs": [
        {
          "output_type": "execute_result",
          "data": {
            "text/plain": [
              "<matplotlib.axes._subplots.AxesSubplot at 0x7f5304f47580>"
            ]
          },
          "metadata": {},
          "execution_count": 17
        },
        {
          "output_type": "display_data",
          "data": {
            "text/plain": [
              "<Figure size 1008x288 with 1 Axes>"
            ],
            "image/png": "[encoded data removed]"
          },
          "metadata": {
            "needs_background": "light"
          }
        }
      ],
      "source": [
        "plt.figure(figsize =(14, 4))\n",
        "sns.countplot(x = 'RaceDesc', data = df,  saturation = 1)"
      ]
    },
    {
      "cell_type": "markdown",
      "id": "1d86a1aa",
      "metadata": {
        "id": "1d86a1aa"
      },
      "source": [
        "GENDER DISTRIBUTION ACROSS RACE IN THE ORGANIZATION"
      ]
    },
    {
      "cell_type": "code",
      "execution_count": null,
      "id": "99a72a04",
      "metadata": {
        "colab": {
          "base_uri": "https://localhost:8080/",
          "height": 404
        },
        "id": "99a72a04",
        "outputId": "3f3f190e-2b56-45be-9ca4-86467a339716"
      },
      "outputs": [
        {
          "output_type": "display_data",
          "data": {
            "text/plain": [
              "<Figure size 720x432 with 1 Axes>"
            ],
            "image/png": "[encoded data removed]"
          },
          "metadata": {
            "needs_background": "light"
          }
        }
      ],
      "source": [
        "plt.figure(figsize =(10, 6))\n",
        "sns.countplot(x = 'Sex', hue = 'RaceDesc', data = df,  saturation = 1)\n",
        "plt.title('Gender of Employees across Race in the Organization')\n",
        "plt.xlabel('Gender')\n",
        "plt.ylabel('Number of Employees')\n",
        "plt.show()"
      ]
    },
    {
      "cell_type": "code",
      "source": [
        "plt.figure(figsize =(10, 4))\n",
        "sns.countplot(x = 'Sex', hue = 'EmploymentStatus', data = df,  saturation = 1)\n",
        "plt.title('Employment Status across Gender in the Organization')\n",
        "plt.xlabel('Gender')\n",
        "plt.ylabel('Number of Employees')\n",
        "plt.show()"
      ],
      "metadata": {
        "colab": {
          "base_uri": "https://localhost:8080/",
          "height": 295
        },
        "id": "lm6v0ujHUVsz",
        "outputId": "9122ae26-299a-403c-f17f-d2b15047de4b"
      },
      "id": "lm6v0ujHUVsz",
      "execution_count": null,
      "outputs": [
        {
          "output_type": "display_data",
          "data": {
            "text/plain": [
              "<Figure size 720x288 with 1 Axes>"
            ],
            "image/png": "[encoded data removed]"
          },
          "metadata": {
            "needs_background": "light"
          }
        }
      ]
    },
    {
      "cell_type": "markdown",
      "id": "1e9e9ac2",
      "metadata": {
        "id": "1e9e9ac2"
      },
      "source": [
        "AGE DISTRIBUTION"
      ]
    },
    {
      "cell_type": "markdown",
      "source": [
        "CHANGING THE 'DOB'  TO AGE FORMAT FOR USE IN CHARTS"
      ],
      "metadata": {
        "id": "ChJrar1Vj5GS"
      },
      "id": "ChJrar1Vj5GS"
    },
    {
      "cell_type": "code",
      "source": [
        "df['DOB']"
      ],
      "metadata": {
        "colab": {
          "base_uri": "https://localhost:8080/"
        },
        "id": "2ZRkfR_mp8pT",
        "outputId": "dfc63573-4894-4ece-f708-86aab90ceede"
      },
      "id": "2ZRkfR_mp8pT",
      "execution_count": null,
      "outputs": [
        {
          "output_type": "execute_result",
          "data": {
            "text/plain": [
              "0      07/10/83\n",
              "1      05/05/75\n",
              "2      09/19/88\n",
              "3      09/27/88\n",
              "4      09/08/89\n",
              "         ...   \n",
              "306    05/11/85\n",
              "307    05/04/82\n",
              "308    08/30/79\n",
              "309    02/24/79\n",
              "310    08/17/78\n",
              "Name: DOB, Length: 311, dtype: object"
            ]
          },
          "metadata": {},
          "execution_count": 20
        }
      ]
    },
    {
      "cell_type": "code",
      "source": [
        "import datetime\n",
        "from datetime import date,datetime\n",
        "from dateutil.relativedelta import relativedelta"
      ],
      "metadata": {
        "id": "Joeq6KzKqm0b"
      },
      "id": "Joeq6KzKqm0b",
      "execution_count": null,
      "outputs": []
    },
    {
      "cell_type": "code",
      "source": [
        "dt=date.today()\n",
        "dt=dt.strftime(\"%Y-%m-%d\")\n",
        "\n",
        "    \n",
        "def days(d1, d2):\n",
        "    d1 = datetime.strptime(d1, \"%Y-%m-%d\")\n",
        "    d2 = datetime.strptime(d2, \"%Y-%m-%d\")\n",
        "    return abs(relativedelta(d2, d1).years)"
      ],
      "metadata": {
        "id": "FNPGyAMSqLLG"
      },
      "id": "FNPGyAMSqLLG",
      "execution_count": null,
      "outputs": []
    },
    {
      "cell_type": "code",
      "source": [
        "new_date=pd.to_datetime(df['DOB']).apply(lambda x:x.strftime(\"%Y-%m-%d\"))\n",
        "df['Age']=new_date.apply(lambda x:days(x, dt))"
      ],
      "metadata": {
        "id": "0Zpw3KG_qV_O"
      },
      "id": "0Zpw3KG_qV_O",
      "execution_count": null,
      "outputs": []
    },
    {
      "cell_type": "code",
      "source": [
        "df['Age'].value_counts()"
      ],
      "metadata": {
        "colab": {
          "base_uri": "https://localhost:8080/"
        },
        "id": "4sap1Y7nmMGC",
        "outputId": "4b3b5410-c49b-47d4-b22c-70f2561c56c0"
      },
      "id": "4sap1Y7nmMGC",
      "execution_count": null,
      "outputs": [
        {
          "output_type": "execute_result",
          "data": {
            "text/plain": [
              "43    23\n",
              "36    23\n",
              "39    22\n",
              "35    21\n",
              "47    21\n",
              "45    18\n",
              "41    18\n",
              "34    17\n",
              "49    17\n",
              "38    17\n",
              "46    16\n",
              "33    14\n",
              "42    14\n",
              "40    12\n",
              "37    12\n",
              "44    12\n",
              "48    12\n",
              "32     7\n",
              "31     5\n",
              "30     4\n",
              "29     3\n",
              "27     1\n",
              "28     1\n",
              "50     1\n",
              "Name: Age, dtype: int64"
            ]
          },
          "metadata": {},
          "execution_count": 23
        }
      ]
    },
    {
      "cell_type": "code",
      "source": [
        "plt.figure(figsize =(10, 6))\n",
        "df['Age'].hist()\n",
        "plt.title('Age distribution of Employees in the Organization')\n",
        "plt.xlabel('Age')\n",
        "plt.ylabel('Number of Employees')\n",
        "plt.show()"
      ],
      "metadata": {
        "colab": {
          "base_uri": "https://localhost:8080/",
          "height": 404
        },
        "id": "DEAP1A7tuKYT",
        "outputId": "7eb2924b-6c6f-4cb0-fd13-1653c1787eae"
      },
      "id": "DEAP1A7tuKYT",
      "execution_count": null,
      "outputs": [
        {
          "output_type": "display_data",
          "data": {
            "text/plain": [
              "<Figure size 720x432 with 1 Axes>"
            ],
            "image/png": "[encoded data removed]"
          },
          "metadata": {
            "needs_background": "light"
          }
        }
      ]
    },
    {
      "cell_type": "markdown",
      "source": [
        "**INTERNAL DIVERSITY OBSERVATIONS**\n",
        "1. Females have more population in the organization\n",
        "2. Females have the higher number in Production, Software Engineering, and Admin offices. The Executive office is occupied by a female, no male. Only the IT/IS and Sales department have more males\n",
        "3. Whites have more population, followed by Blacks or African American, and Asians. Hispanics have the lowest number\n",
        "4. Females have more number across all races.\n",
        "5. The most frequent age within the organization is between 35 to 47 years of age.\n"
      ],
      "metadata": {
        "id": "wRqpGmnXlHEu"
      },
      "id": "wRqpGmnXlHEu"
    },
    {
      "cell_type": "markdown",
      "id": "43fc8b73",
      "metadata": {
        "id": "43fc8b73"
      },
      "source": [
        "**EXTERNAL DIVERSITY**"
      ]
    },
    {
      "cell_type": "markdown",
      "id": "9047bd10",
      "metadata": {
        "id": "9047bd10"
      },
      "source": [
        "CITIZENSHIP"
      ]
    },
    {
      "cell_type": "code",
      "execution_count": null,
      "id": "04c9df77",
      "metadata": {
        "colab": {
          "base_uri": "https://localhost:8080/",
          "height": 296
        },
        "id": "04c9df77",
        "outputId": "05aa85b3-023d-4fd6-b09f-f2e4f8fc0853"
      },
      "outputs": [
        {
          "output_type": "execute_result",
          "data": {
            "text/plain": [
              "<matplotlib.axes._subplots.AxesSubplot at 0x7f52f189ba30>"
            ]
          },
          "metadata": {},
          "execution_count": 25
        },
        {
          "output_type": "display_data",
          "data": {
            "text/plain": [
              "<Figure size 576x288 with 1 Axes>"
            ],
            "image/png": "[encoded data removed]"
          },
          "metadata": {
            "needs_background": "light"
          }
        }
      ],
      "source": [
        "plt.figure(figsize =(8, 4))\n",
        "sns.countplot(x = 'CitizenDesc', data = df, saturation = 1)"
      ]
    },
    {
      "cell_type": "markdown",
      "id": "5ceca0ff",
      "metadata": {
        "id": "5ceca0ff"
      },
      "source": [
        "GEOGRAPHICAL LOCATION"
      ]
    },
    {
      "cell_type": "code",
      "execution_count": null,
      "id": "b406337f",
      "metadata": {
        "colab": {
          "base_uri": "https://localhost:8080/",
          "height": 404
        },
        "id": "b406337f",
        "outputId": "9692205b-b93b-4ed6-b575-bd6e2dffd4c1"
      },
      "outputs": [
        {
          "output_type": "display_data",
          "data": {
            "text/plain": [
              "<Figure size 720x432 with 1 Axes>"
            ],
            "image/png": "[encoded data removed]"
          },
          "metadata": {
            "needs_background": "light"
          }
        }
      ],
      "source": [
        "plt.figure(figsize =(10, 6))\n",
        "sns.countplot(x = 'State', data = df,  saturation = 1)\n",
        "plt.title('Location of Employees in the Organization')\n",
        "plt.xlabel('Location')\n",
        "plt.ylabel('Number of Employees')\n",
        "plt.show()"
      ]
    },
    {
      "cell_type": "markdown",
      "source": [
        "CHECKING TO KNOW ORGANIZATIONAL DETAILS IN 'MA'"
      ],
      "metadata": {
        "id": "dXmp1sokv1D4"
      },
      "id": "dXmp1sokv1D4"
    },
    {
      "cell_type": "code",
      "source": [
        "MA = df.groupby(['State','Department'])['EmpID'].count().reset_index()\n",
        "MA= MA.iloc[11:17]\n",
        "MA\n"
      ],
      "metadata": {
        "colab": {
          "base_uri": "https://localhost:8080/",
          "height": 237
        },
        "id": "SPdfNqK4r10r",
        "outputId": "cbd9a1a9-39f7-4feb-ebd3-2f8da6dbdca4"
      },
      "id": "SPdfNqK4r10r",
      "execution_count": null,
      "outputs": [
        {
          "output_type": "execute_result",
          "data": {
            "text/plain": [
              "   State            Department  EmpID\n",
              "11    MA         Admin Offices      9\n",
              "12    MA      Executive Office      1\n",
              "13    MA                 IT/IS     44\n",
              "14    MA     Production           209\n",
              "15    MA                 Sales      2\n",
              "16    MA  Software Engineering     11"
            ],
            "text/html": [
              "\n",
              "  <div id=\"df-666d5054-6cf4-4ce0-955f-01f232276306\">\n",
              "    <div class=\"colab-df-container\">\n",
              "      <div>\n",
              "<style scoped>\n",
              "    .dataframe tbody tr th:only-of-type {\n",
              "        vertical-align: middle;\n",
              "    }\n",
              "\n",
              "    .dataframe tbody tr th {\n",
              "        vertical-align: top;\n",
              "    }\n",
              "\n",
              "    .dataframe thead th {\n",
              "        text-align: right;\n",
              "    }\n",
              "</style>\n",
              "<table border=\"1\" class=\"dataframe\">\n",
              "  <thead>\n",
              "    <tr style=\"text-align: right;\">\n",
              "      <th></th>\n",
              "      <th>State</th>\n",
              "      <th>Department</th>\n",
              "      <th>EmpID</th>\n",
              "    </tr>\n",
              "  </thead>\n",
              "  <tbody>\n",
              "    <tr>\n",
              "      <th>11</th>\n",
              "      <td>MA</td>\n",
              "      <td>Admin Offices</td>\n",
              "      <td>9</td>\n",
              "    </tr>\n",
              "    <tr>\n",
              "      <th>12</th>\n",
              "      <td>MA</td>\n",
              "      <td>Executive Office</td>\n",
              "      <td>1</td>\n",
              "    </tr>\n",
              "    <tr>\n",
              "      <th>13</th>\n",
              "      <td>MA</td>\n",
              "      <td>IT/IS</td>\n",
              "      <td>44</td>\n",
              "    </tr>\n",
              "    <tr>\n",
              "      <th>14</th>\n",
              "      <td>MA</td>\n",
              "      <td>Production</td>\n",
              "      <td>209</td>\n",
              "    </tr>\n",
              "    <tr>\n",
              "      <th>15</th>\n",
              "      <td>MA</td>\n",
              "      <td>Sales</td>\n",
              "      <td>2</td>\n",
              "    </tr>\n",
              "    <tr>\n",
              "      <th>16</th>\n",
              "      <td>MA</td>\n",
              "      <td>Software Engineering</td>\n",
              "      <td>11</td>\n",
              "    </tr>\n",
              "  </tbody>\n",
              "</table>\n",
              "</div>\n",
              "      <button class=\"colab-df-convert\" onclick=\"convertToInteractive('df-666d5054-6cf4-4ce0-955f-01f232276306')\"\n",
              "              title=\"Convert this dataframe to an interactive table.\"\n",
              "              style=\"display:none;\">\n",
              "        \n",
              "  <svg xmlns=\"http://www.w3.org/2000/svg\" height=\"24px\"viewBox=\"0 0 24 24\"\n",
              "       width=\"24px\">\n",
              "    <path d=\"M0 0h24v24H0V0z\" fill=\"none\"/>\n",
              "    <path d=\"M18.56 5.44l.94 2.06.94-2.06 2.06-.94-2.06-.94-.94-2.06-.94 2.06-2.06.94zm-11 1L8.5 8.5l.94-2.06 2.06-.94-2.06-.94L8.5 2.5l-.94 2.06-2.06.94zm10 10l.94 2.06.94-2.06 2.06-.94-2.06-.94-.94-2.06-.94 2.06-2.06.94z\"/><path d=\"M17.41 7.96l-1.37-1.37c-.4-.4-.92-.59-1.43-.59-.52 0-1.04.2-1.43.59L10.3 9.45l-7.72 7.72c-.78.78-.78 2.05 0 2.83L4 21.41c.39.39.9.59 1.41.59.51 0 1.02-.2 1.41-.59l7.78-7.78 2.81-2.81c.8-.78.8-2.07 0-2.86zM5.41 20L4 18.59l7.72-7.72 1.47 1.35L5.41 20z\"/>\n",
              "  </svg>\n",
              "      </button>\n",
              "      \n",
              "  <style>\n",
              "    .colab-df-container {\n",
              "      display:flex;\n",
              "      flex-wrap:wrap;\n",
              "      gap: 12px;\n",
              "    }\n",
              "\n",
              "    .colab-df-convert {\n",
              "      background-color: #E8F0FE;\n",
              "      border: none;\n",
              "      border-radius: 50%;\n",
              "      cursor: pointer;\n",
              "      display: none;\n",
              "      fill: #1967D2;\n",
              "      height: 32px;\n",
              "      padding: 0 0 0 0;\n",
              "      width: 32px;\n",
              "    }\n",
              "\n",
              "    .colab-df-convert:hover {\n",
              "      background-color: #E2EBFA;\n",
              "      box-shadow: 0px 1px 2px rgba(60, 64, 67, 0.3), 0px 1px 3px 1px rgba(60, 64, 67, 0.15);\n",
              "      fill: #174EA6;\n",
              "    }\n",
              "\n",
              "    [theme=dark] .colab-df-convert {\n",
              "      background-color: #3B4455;\n",
              "      fill: #D2E3FC;\n",
              "    }\n",
              "\n",
              "    [theme=dark] .colab-df-convert:hover {\n",
              "      background-color: #434B5C;\n",
              "      box-shadow: 0px 1px 3px 1px rgba(0, 0, 0, 0.15);\n",
              "      filter: drop-shadow(0px 1px 2px rgba(0, 0, 0, 0.3));\n",
              "      fill: #FFFFFF;\n",
              "    }\n",
              "  </style>\n",
              "\n",
              "      <script>\n",
              "        const buttonEl =\n",
              "          document.querySelector('#df-666d5054-6cf4-4ce0-955f-01f232276306 button.colab-df-convert');\n",
              "        buttonEl.style.display =\n",
              "          google.colab.kernel.accessAllowed ? 'block' : 'none';\n",
              "\n",
              "        async function convertToInteractive(key) {\n",
              "          const element = document.querySelector('#df-666d5054-6cf4-4ce0-955f-01f232276306');\n",
              "          const dataTable =\n",
              "            await google.colab.kernel.invokeFunction('convertToInteractive',\n",
              "                                                     [key], {});\n",
              "          if (!dataTable) return;\n",
              "\n",
              "          const docLinkHtml = 'Like what you see? Visit the ' +\n",
              "            '<a target=\"_blank\" href=https://colab.research.google.com/notebooks/data_table.ipynb>data table notebook</a>'\n",
              "            + ' to learn more about interactive tables.';\n",
              "          element.innerHTML = '';\n",
              "          dataTable['output_type'] = 'display_data';\n",
              "          await google.colab.output.renderOutput(dataTable, element);\n",
              "          const docLink = document.createElement('div');\n",
              "          docLink.innerHTML = docLinkHtml;\n",
              "          element.appendChild(docLink);\n",
              "        }\n",
              "      </script>\n",
              "    </div>\n",
              "  </div>\n",
              "  "
            ]
          },
          "metadata": {},
          "execution_count": 27
        }
      ]
    },
    {
      "cell_type": "markdown",
      "source": [
        "**EXTERNAL DIVERSITY OBSERVATIONS**\n",
        "1. A high number of employees are United States citizens which may indicate that the organization is in the United States.\n",
        "2. \"MA\" has the highest number of employees present. This may suggest the location of the production site or head office of the organization.\"MA\" may suggest \"Massachussetts\".\n",
        "3. All departments have presence in \"MA\". Prominent is the production department with has the highest number. The 'Executive Office' is in \"MA\". This confirms that the production and administrative management is done in \"MA\". "
      ],
      "metadata": {
        "id": "8f47kno-qkmS"
      },
      "id": "8f47kno-qkmS"
    },
    {
      "cell_type": "markdown",
      "id": "f415b416",
      "metadata": {
        "id": "f415b416"
      },
      "source": [
        "**ORGANIZATIONAL DIVERSITY**"
      ]
    },
    {
      "cell_type": "markdown",
      "id": "f1e58c0a",
      "metadata": {
        "id": "f1e58c0a"
      },
      "source": [
        "DEPARTMENTS IN THE ORGANIZATION"
      ]
    },
    {
      "cell_type": "code",
      "execution_count": null,
      "id": "f053c1fb",
      "metadata": {
        "colab": {
          "base_uri": "https://localhost:8080/"
        },
        "id": "f053c1fb",
        "outputId": "4d9dd281-3e4e-4af3-ad68-4898968af115"
      },
      "outputs": [
        {
          "output_type": "execute_result",
          "data": {
            "text/plain": [
              "array(['Production       ', 'IT/IS', 'Software Engineering',\n",
              "       'Admin Offices', 'Sales', 'Executive Office'], dtype=object)"
            ]
          },
          "metadata": {},
          "execution_count": 28
        }
      ],
      "source": [
        "df['Department'].unique()"
      ]
    },
    {
      "cell_type": "code",
      "execution_count": null,
      "id": "af3a9c13",
      "metadata": {
        "colab": {
          "base_uri": "https://localhost:8080/",
          "height": 295
        },
        "id": "af3a9c13",
        "outputId": "8ef35db6-1532-44eb-ab79-adcae5fc532a"
      },
      "outputs": [
        {
          "output_type": "display_data",
          "data": {
            "text/plain": [
              "<Figure size 720x288 with 1 Axes>"
            ],
            "image/png": "[encoded data removed]"
          },
          "metadata": {
            "needs_background": "light"
          }
        }
      ],
      "source": [
        "df['Department'].value_counts()\n",
        "plt.figure(figsize =(10, 4))\n",
        "sns.countplot(x = 'Department', data = df,  saturation = 1)\n",
        "plt.title('Employees in Each Department within the Organization')\n",
        "plt.xlabel('Department')\n",
        "plt.ylabel('Number of Employees')\n",
        "plt.show()"
      ]
    },
    {
      "cell_type": "markdown",
      "source": [
        "SALARY DISTRIBUTION"
      ],
      "metadata": {
        "id": "G_3WtpYUB_N_"
      },
      "id": "G_3WtpYUB_N_"
    },
    {
      "cell_type": "code",
      "source": [
        "plt.figure(figsize=(8,8))\n",
        "sns.boxplot(y=df[\"Salary\"], x=df[\"Sex\"])"
      ],
      "metadata": {
        "colab": {
          "base_uri": "https://localhost:8080/",
          "height": 514
        },
        "id": "O9SpaT_IB3MI",
        "outputId": "9dff1e57-d255-4f72-e22d-17602b68f917"
      },
      "id": "O9SpaT_IB3MI",
      "execution_count": null,
      "outputs": [
        {
          "output_type": "execute_result",
          "data": {
            "text/plain": [
              "<matplotlib.axes._subplots.AxesSubplot at 0x7f52f16bca60>"
            ]
          },
          "metadata": {},
          "execution_count": 30
        },
        {
          "output_type": "display_data",
          "data": {
            "text/plain": [
              "<Figure size 576x576 with 1 Axes>"
            ],
            "image/png": "[encoded data removed]"
          },
          "metadata": {
            "needs_background": "light"
          }
        }
      ]
    },
    {
      "cell_type": "markdown",
      "id": "6a501016",
      "metadata": {
        "id": "6a501016"
      },
      "source": [
        "MANAGERS AND EMPLOYEES UNDER THEM"
      ]
    },
    {
      "cell_type": "code",
      "execution_count": null,
      "id": "5822df99",
      "metadata": {
        "colab": {
          "base_uri": "https://localhost:8080/",
          "height": 404
        },
        "id": "5822df99",
        "outputId": "07aee35a-d44c-4081-efe7-82f2cadd0fc9"
      },
      "outputs": [
        {
          "output_type": "display_data",
          "data": {
            "text/plain": [
              "<Figure size 576x432 with 1 Axes>"
            ],
            "image/png": "[encoded data removed]"
          },
          "metadata": {
            "needs_background": "light"
          }
        }
      ],
      "source": [
        "emp_count = df.groupby('ManagerName')['EmpID'].count().sort_values(ascending = True).reset_index()\n",
        "emp_count \n",
        "\n",
        "fig, ax = plt.subplots(figsize=(8, 6))\n",
        "ax.barh(emp_count['ManagerName'], emp_count['EmpID'])\n",
        "labels = ax.get_xticklabels()\n",
        "ax.set(xlabel='Number of employees', ylabel='Managers',title='Employees under each Manager')\n",
        "plt.show()"
      ]
    },
    {
      "cell_type": "markdown",
      "id": "74336056",
      "metadata": {
        "id": "74336056"
      },
      "source": [
        "RECRUITMENT SOURCE"
      ]
    },
    {
      "cell_type": "code",
      "execution_count": null,
      "id": "60c247dc",
      "metadata": {
        "colab": {
          "base_uri": "https://localhost:8080/",
          "height": 279
        },
        "id": "60c247dc",
        "outputId": "7bd9e49b-01a8-4c35-8935-59d9c5f0b82c"
      },
      "outputs": [
        {
          "output_type": "display_data",
          "data": {
            "text/plain": [
              "<Figure size 1152x288 with 1 Axes>"
            ],
            "image/png": "[encoded data removed]"
          },
          "metadata": {
            "needs_background": "light"
          }
        }
      ],
      "source": [
        "recr_source = df.groupby('RecruitmentSource')['EmpID'].count().reset_index()\n",
        "plt.figure(figsize =(16, 4))\n",
        "sns.barplot(x= recr_source['RecruitmentSource'], y=recr_source['EmpID'] )\n",
        "plt.show()"
      ]
    },
    {
      "cell_type": "markdown",
      "source": [
        "**ORGANIZATIONAL DIVERSITY OBSERVATIONS**\n",
        "1. Production department have the highest number of employees, followed by IT/IS and Sales.\n",
        "2. Females have higher paying jobs than males in the organization. The highest paid staff is also a female.\n",
        "3. There are 5 managers with the highest number of employees under them.\n",
        "4. Indeed, LinkedIn and Google Search are the most frequent sources the organiztion recruit through."
      ],
      "metadata": {
        "id": "qX3_NxopVewy"
      },
      "id": "qX3_NxopVewy"
    },
    {
      "cell_type": "markdown",
      "id": "e8bc762c",
      "metadata": {
        "id": "e8bc762c"
      },
      "source": [
        "**PROBING INTO EMPLOYMENT STATUS AND REASONS FOR EMPLOYMENT TERMINATION**"
      ]
    },
    {
      "cell_type": "markdown",
      "id": "3b7a218a",
      "metadata": {
        "id": "3b7a218a"
      },
      "source": [
        "EMPLOYMENT STATUS"
      ]
    },
    {
      "cell_type": "code",
      "execution_count": null,
      "id": "df521a96",
      "metadata": {
        "colab": {
          "base_uri": "https://localhost:8080/",
          "height": 295
        },
        "id": "df521a96",
        "outputId": "8fa11d31-ffff-496b-fbb2-1d3b1fba294b"
      },
      "outputs": [
        {
          "output_type": "display_data",
          "data": {
            "text/plain": [
              "<Figure size 576x288 with 1 Axes>"
            ],
            "image/png": "[encoded data removed]"
          },
          "metadata": {
            "needs_background": "light"
          }
        }
      ],
      "source": [
        "plt.figure(figsize =(8, 4))\n",
        "sns.countplot(x = 'EmploymentStatus', data = df,  saturation = 1)\n",
        "plt.title('Employment Status within the Organization')\n",
        "plt.xlabel('Status')\n",
        "plt.ylabel('Number of Employees')\n",
        "plt.show()"
      ]
    },
    {
      "cell_type": "markdown",
      "source": [
        "Most of the employees are actively employed. Many have voluntarily terminated while some where terminated by the management."
      ],
      "metadata": {
        "id": "GUwabbQk3Qwi"
      },
      "id": "GUwabbQk3Qwi"
    },
    {
      "cell_type": "markdown",
      "id": "f0cebc0e",
      "metadata": {
        "id": "f0cebc0e"
      },
      "source": [
        "REASONS FOR TERMINATION"
      ]
    },
    {
      "cell_type": "code",
      "execution_count": null,
      "id": "08ba589f",
      "metadata": {
        "colab": {
          "base_uri": "https://localhost:8080/",
          "height": 404
        },
        "id": "08ba589f",
        "outputId": "6f3ca138-6c6c-4b47-adf0-525f7dbd1b28"
      },
      "outputs": [
        {
          "output_type": "display_data",
          "data": {
            "text/plain": [
              "<Figure size 576x432 with 1 Axes>"
            ],
            "image/png": "[encoded data removed]"
          },
          "metadata": {
            "needs_background": "light"
          }
        }
      ],
      "source": [
        "app_term = df.groupby('TermReason')['EmpID'].count().sort_values(ascending = False).reset_index()\n",
        "app_term = app_term.drop([0])\n",
        " \n",
        "fig, ax = plt.subplots(figsize=(8, 6))\n",
        "ax.barh(app_term['TermReason'], app_term['EmpID'] )\n",
        "labels = ax.get_xticklabels()\n",
        "ax.set(xlabel='Number of People', ylabel='Reason',\n",
        "       title='Reasons for Termination')\n",
        "plt.show()"
      ]
    },
    {
      "cell_type": "markdown",
      "source": [
        "Many employees left the compnay to take up other positions in other organizations. 'unhappy', 'more money', 'career change' are other common reasons for leaving their employment. There are also disciplinary terminations due to 'gross misconduct', and 'learned he is a gangster'"
      ],
      "metadata": {
        "id": "hScmXxc6VAeo"
      },
      "id": "hScmXxc6VAeo"
    },
    {
      "cell_type": "code",
      "source": [
        "#performance score evaluation\n",
        "perf_sco=df['PerformanceScore'].value_counts()\n",
        "perf_sco.plot(kind='bar')"
      ],
      "metadata": {
        "colab": {
          "base_uri": "https://localhost:8080/",
          "height": 373
        },
        "id": "wK7WFxUHU73V",
        "outputId": "c8a88acd-455b-404f-f3d1-7520d57780fb"
      },
      "id": "wK7WFxUHU73V",
      "execution_count": null,
      "outputs": [
        {
          "output_type": "execute_result",
          "data": {
            "text/plain": [
              "<matplotlib.axes._subplots.AxesSubplot at 0x7f52f15f3940>"
            ]
          },
          "metadata": {},
          "execution_count": 35
        },
        {
          "output_type": "display_data",
          "data": {
            "text/plain": [
              "<Figure size 432x288 with 1 Axes>"
            ],
            "image/png": "[encoded data removed]"
          },
          "metadata": {
            "needs_background": "light"
          }
        }
      ]
    },
    {
      "cell_type": "markdown",
      "source": [
        "Most employees fully meets up with the performance score, while some exceeds."
      ],
      "metadata": {
        "id": "asfLxoeK1Gpu"
      },
      "id": "asfLxoeK1Gpu"
    },
    {
      "cell_type": "code",
      "source": [
        "plt.figure(figsize =(10, 4))\n",
        "eng_surv=df['EngagementSurvey'].value_counts()\n",
        "eng_surv.plot(kind='hist')"
      ],
      "metadata": {
        "colab": {
          "base_uri": "https://localhost:8080/",
          "height": 282
        },
        "id": "PoA-h2yhYXTj",
        "outputId": "a9dd7628-4f6d-4779-e3fc-6c52704eba64"
      },
      "id": "PoA-h2yhYXTj",
      "execution_count": null,
      "outputs": [
        {
          "output_type": "execute_result",
          "data": {
            "text/plain": [
              "<matplotlib.axes._subplots.AxesSubplot at 0x7f52f17ab6d0>"
            ]
          },
          "metadata": {},
          "execution_count": 36
        },
        {
          "output_type": "display_data",
          "data": {
            "text/plain": [
              "<Figure size 720x288 with 1 Axes>"
            ],
            "image/png": "[encoded data removed]"
          },
          "metadata": {
            "needs_background": "light"
          }
        }
      ]
    },
    {
      "cell_type": "code",
      "source": [
        "plt.figure(figsize =(6, 4))\n",
        "emp_sat=df['EmpSatisfaction'].value_counts()\n",
        "emp_sat.plot(kind='bar')"
      ],
      "metadata": {
        "colab": {
          "base_uri": "https://localhost:8080/",
          "height": 279
        },
        "id": "hQ10PiA1ZJvs",
        "outputId": "661c4142-9cad-4583-d05f-ec62cb4cc366"
      },
      "id": "hQ10PiA1ZJvs",
      "execution_count": null,
      "outputs": [
        {
          "output_type": "execute_result",
          "data": {
            "text/plain": [
              "<matplotlib.axes._subplots.AxesSubplot at 0x7f52f477d910>"
            ]
          },
          "metadata": {},
          "execution_count": 40
        },
        {
          "output_type": "display_data",
          "data": {
            "text/plain": [
              "<Figure size 432x288 with 1 Axes>"
            ],
            "image/png": "[encoded data removed]"
          },
          "metadata": {
            "needs_background": "light"
          }
        }
      ]
    },
    {
      "cell_type": "markdown",
      "source": [
        "EMPLOYMENT  STATUS ACROSS RACE"
      ],
      "metadata": {
        "id": "upBjOPjoVx-a"
      },
      "id": "upBjOPjoVx-a"
    },
    {
      "cell_type": "code",
      "execution_count": null,
      "id": "84dda487",
      "metadata": {
        "colab": {
          "base_uri": "https://localhost:8080/",
          "height": 458
        },
        "id": "84dda487",
        "outputId": "0ccda285-2df9-4231-b146-0a7bc907aad0"
      },
      "outputs": [
        {
          "output_type": "display_data",
          "data": {
            "text/plain": [
              "<Figure size 720x504 with 1 Axes>"
            ],
            "image/png": "[encoded data removed]"
          },
          "metadata": {
            "needs_background": "light"
          }
        }
      ],
      "source": [
        "plt.figure(figsize =(10, 7))\n",
        "sns.countplot(x = 'EmploymentStatus', hue = 'RaceDesc', data = df,  saturation = 1)\n",
        "plt.title('Employment Status across Race in the Organization')\n",
        "plt.xlabel('EmploymentStatus')\n",
        "plt.ylabel('Number of Employees')\n",
        "plt.show()"
      ]
    },
    {
      "cell_type": "markdown",
      "source": [
        "All races except Hispanics and American Indian or ALaska native has been affected by employmnt termination"
      ],
      "metadata": {
        "id": "ZGYoXRL7V6gf"
      },
      "id": "ZGYoXRL7V6gf"
    },
    {
      "cell_type": "markdown",
      "source": [
        "EMPLOYMENT STATUS ACROSS DEPARTMENTS"
      ],
      "metadata": {
        "id": "FfxI2OUEWMyA"
      },
      "id": "FfxI2OUEWMyA"
    },
    {
      "cell_type": "code",
      "execution_count": null,
      "id": "21c3a0ba",
      "metadata": {
        "colab": {
          "base_uri": "https://localhost:8080/",
          "height": 404
        },
        "id": "21c3a0ba",
        "outputId": "c7fda9b6-faa7-4abc-ff75-7b15e5ab2997"
      },
      "outputs": [
        {
          "output_type": "display_data",
          "data": {
            "text/plain": [
              "<Figure size 720x432 with 1 Axes>"
            ],
            "image/png": "[encoded data removed]"
          },
          "metadata": {
            "needs_background": "light"
          }
        }
      ],
      "source": [
        "plt.figure(figsize =(10, 6))\n",
        "sns.countplot(x = 'EmploymentStatus', hue = 'Department', data = df,  saturation = 1)\n",
        "plt.title('Employment Status across Departments in the Organization')\n",
        "plt.xlabel('EmploymentStatus')\n",
        "plt.ylabel('Number of Employees')\n",
        "plt.show()"
      ]
    },
    {
      "cell_type": "markdown",
      "source": [
        "There is a high 'Voluntary Termination' in the Production department"
      ],
      "metadata": {
        "id": "44wzkR81WRcM"
      },
      "id": "44wzkR81WRcM"
    },
    {
      "cell_type": "code",
      "source": [
        "plt.figure(figsize =(16, 6))\n",
        "sns.countplot(x = 'Age', hue = 'Termd', data = df,  saturation = 1)\n",
        "plt.title('Employment Status across Ages in the Organization')\n",
        "plt.xlabel('Age')\n",
        "plt.ylabel('Number of Employees')\n",
        "plt.show()"
      ],
      "metadata": {
        "colab": {
          "base_uri": "https://localhost:8080/",
          "height": 404
        },
        "id": "DS2uabPKS9rz",
        "outputId": "5aa21ff6-ba81-4a49-9cfe-d1063434abfd"
      },
      "id": "DS2uabPKS9rz",
      "execution_count": null,
      "outputs": [
        {
          "output_type": "display_data",
          "data": {
            "text/plain": [
              "<Figure size 1152x432 with 1 Axes>"
            ],
            "image/png": "[encoded data removed]"
          },
          "metadata": {
            "needs_background": "light"
          }
        }
      ]
    },
    {
      "cell_type": "markdown",
      "id": "74d11515",
      "metadata": {
        "id": "74d11515"
      },
      "source": [
        "DISTRIBUTION OF EMPLOYMENT STATUS"
      ]
    },
    {
      "cell_type": "code",
      "execution_count": null,
      "id": "2243e417",
      "metadata": {
        "colab": {
          "base_uri": "https://localhost:8080/",
          "height": 427
        },
        "id": "2243e417",
        "outputId": "83637826-9094-49ed-bcd7-234847891c16"
      },
      "outputs": [
        {
          "output_type": "display_data",
          "data": {
            "text/plain": [
              "<Figure size 504x504 with 1 Axes>"
            ],
            "image/png": "[encoded data removed]"
          },
          "metadata": {}
        }
      ],
      "source": [
        "fig = plt.figure(figsize=(7,7))\n",
        "colors = (\"silver\", \"orange\", \"gold\")\n",
        "wp = {'linewidth':2, 'edgecolor':\"black\"}\n",
        "tags = df['EmploymentStatus'].value_counts()\n",
        "explode = (0.1,0.1,0.1)\n",
        "tags.plot(kind='pie', autopct='%1.1f%%', shadow=True, colors = colors,\n",
        "         startangle=90, wedgeprops = wp, explode = explode, label='')\n",
        "plt.title('Employment Status Distribution')\n",
        "plt.show()"
      ]
    },
    {
      "cell_type": "markdown",
      "source": [
        "33.4% of employees have lost their jobs so far"
      ],
      "metadata": {
        "id": "w6DRMGX4WhIv"
      },
      "id": "w6DRMGX4WhIv"
    },
    {
      "cell_type": "markdown",
      "id": "964aed7b",
      "metadata": {
        "id": "964aed7b"
      },
      "source": [
        "YEARLY TERMINATION OF APPOINTMENT"
      ]
    },
    {
      "cell_type": "code",
      "execution_count": null,
      "id": "78c02554",
      "metadata": {
        "id": "78c02554"
      },
      "outputs": [],
      "source": [
        "df['DateofTermination'] = pd.to_datetime(df['DateofTermination'], infer_datetime_format=True)\n",
        "df['Year'] = df['DateofTermination'].dt.year\n",
        "df['Year'] = df['DateofTermination'].dt.to_period('Y')"
      ]
    },
    {
      "cell_type": "code",
      "execution_count": null,
      "id": "50e0426f",
      "metadata": {
        "id": "50e0426f",
        "outputId": "1cef00ce-0335-47c6-c782-19ae31110d64",
        "colab": {
          "base_uri": "https://localhost:8080/",
          "height": 404
        }
      },
      "outputs": [
        {
          "output_type": "display_data",
          "data": {
            "text/plain": [
              "<Figure size 864x432 with 1 Axes>"
            ],
            "image/png": "[encoded data removed]"
          },
          "metadata": {
            "needs_background": "light"
          }
        }
      ],
      "source": [
        "yearly_termination = df.groupby('Year')['DateofTermination'].count()\n",
        "fig, ax = plt.subplots(1, 1, figsize=[12, 6])\n",
        "yearly_termination.plot(ax=ax, marker='x', alpha=.9, markersize=5, color='r', label='Yearly terminations')\n",
        "ax.set_ylabel('Total terminations')\n",
        "ax.set_xlabel('Year')\n",
        "ax.set_title('Yearly employment termination')\n",
        "ax.legend()\n",
        "plt.show()"
      ]
    },
    {
      "cell_type": "markdown",
      "source": [
        "2015 has the peak of employment losses, followed by 2016 from the period of 2010 to 2018.It is beginning to rise again in 2018"
      ],
      "metadata": {
        "id": "nKQiMB7wWmhz"
      },
      "id": "nKQiMB7wWmhz"
    },
    {
      "cell_type": "markdown",
      "source": [
        "DISTRIBUTION OF TERMINATION"
      ],
      "metadata": {
        "id": "i9uUtkLKyVtI"
      },
      "id": "i9uUtkLKyVtI"
    },
    {
      "cell_type": "code",
      "source": [
        "df['DateofHire'] = pd.to_datetime(df['DateofHire'])\n",
        "df['DateofTermination'] = pd.to_datetime(df['DateofTermination'])"
      ],
      "metadata": {
        "id": "NTTIPzqz2EMq"
      },
      "id": "NTTIPzqz2EMq",
      "execution_count": null,
      "outputs": []
    },
    {
      "cell_type": "code",
      "source": [
        "#establishing lenth of service for terminated employees\n",
        "service_length=(df['DateofTermination'] - df['DateofHire']).dropna()\n",
        "df['service_length'] = service_length"
      ],
      "metadata": {
        "id": "9DcceK7O2fUx"
      },
      "id": "9DcceK7O2fUx",
      "execution_count": null,
      "outputs": []
    },
    {
      "cell_type": "code",
      "source": [
        "df.info()"
      ],
      "metadata": {
        "colab": {
          "base_uri": "https://localhost:8080/"
        },
        "id": "2_IZMWWv3XXH",
        "outputId": "dfa1e48b-237a-4471-da64-9e659f1261b3"
      },
      "id": "2_IZMWWv3XXH",
      "execution_count": null,
      "outputs": [
        {
          "output_type": "stream",
          "name": "stdout",
          "text": [
            "<class 'pandas.core.frame.DataFrame'>\n",
            "RangeIndex: 311 entries, 0 to 310\n",
            "Data columns (total 29 columns):\n",
            " #   Column                      Non-Null Count  Dtype          \n",
            "---  ------                      --------------  -----          \n",
            " 0   EmpID                       311 non-null    int64          \n",
            " 1   GenderID                    311 non-null    int64          \n",
            " 2   EmpStatusID                 311 non-null    int64          \n",
            " 3   DeptID                      311 non-null    int64          \n",
            " 4   PerfScoreID                 311 non-null    int64          \n",
            " 5   Salary                      311 non-null    int64          \n",
            " 6   Termd                       311 non-null    int64          \n",
            " 7   Position                    311 non-null    object         \n",
            " 8   State                       311 non-null    object         \n",
            " 9   DOB                         311 non-null    object         \n",
            " 10  Sex                         311 non-null    object         \n",
            " 11  MaritalDesc                 311 non-null    object         \n",
            " 12  CitizenDesc                 311 non-null    object         \n",
            " 13  RaceDesc                    311 non-null    object         \n",
            " 14  DateofHire                  311 non-null    datetime64[ns] \n",
            " 15  DateofTermination           104 non-null    datetime64[ns] \n",
            " 16  TermReason                  311 non-null    object         \n",
            " 17  EmploymentStatus            311 non-null    object         \n",
            " 18  Department                  311 non-null    object         \n",
            " 19  ManagerName                 311 non-null    object         \n",
            " 20  RecruitmentSource           311 non-null    object         \n",
            " 21  PerformanceScore            311 non-null    object         \n",
            " 22  EngagementSurvey            311 non-null    float64        \n",
            " 23  EmpSatisfaction             311 non-null    int64          \n",
            " 24  LastPerformanceReview_Date  311 non-null    object         \n",
            " 25  Absences                    311 non-null    int64          \n",
            " 26  Age                         311 non-null    int64          \n",
            " 27  Year                        104 non-null    period[A-DEC]  \n",
            " 28  service_length              104 non-null    timedelta64[ns]\n",
            "dtypes: datetime64[ns](2), float64(1), int64(10), object(14), period[A-DEC](1), timedelta64[ns](1)\n",
            "memory usage: 70.6+ KB\n"
          ]
        }
      ]
    },
    {
      "cell_type": "code",
      "source": [
        "#establishing terminated employees\n",
        "out_of_co = df[df.Termd == 1]"
      ],
      "metadata": {
        "id": "EBCvpkB23DTz"
      },
      "id": "EBCvpkB23DTz",
      "execution_count": null,
      "outputs": []
    },
    {
      "cell_type": "code",
      "source": [
        "fig, ax = plt.subplots()\n",
        "\n",
        "ax.scatter(out_of_co.Age, out_of_co.service_length, color='r')\n",
        "ax.set_xlabel('Age')\n",
        "ax.set_ylabel('Length of service')\n",
        "ax.set_title('Out of company')\n",
        "\n",
        "plt.show()"
      ],
      "metadata": {
        "colab": {
          "base_uri": "https://localhost:8080/",
          "height": 295
        },
        "id": "mPSgf5km4Ngc",
        "outputId": "b96aab58-47b3-4b07-be68-59791291b235"
      },
      "id": "mPSgf5km4Ngc",
      "execution_count": null,
      "outputs": [
        {
          "output_type": "display_data",
          "data": {
            "text/plain": [
              "<Figure size 432x288 with 1 Axes>"
            ],
            "image/png": "[encoded data removed]"
          },
          "metadata": {
            "needs_background": "light"
          }
        }
      ]
    },
    {
      "cell_type": "markdown",
      "source": [
        "There is no particular pattern for the job losses across the various ages in the organization"
      ],
      "metadata": {
        "id": "u_MrO4IYW5AB"
      },
      "id": "u_MrO4IYW5AB"
    },
    {
      "cell_type": "markdown",
      "source": [
        "**Statistical/Computational-based Data Analysis**"
      ],
      "metadata": {
        "id": "_sbP0Nz3XPeN"
      },
      "id": "_sbP0Nz3XPeN"
    },
    {
      "cell_type": "markdown",
      "id": "8ced159b",
      "metadata": {
        "id": "8ced159b"
      },
      "source": [
        "REDEFINING DATAFRAME AND CHOOSING ONLY NEEDED VARIABLES"
      ]
    },
    {
      "cell_type": "code",
      "execution_count": null,
      "id": "6ce0e6ed",
      "metadata": {
        "colab": {
          "base_uri": "https://localhost:8080/"
        },
        "id": "6ce0e6ed",
        "outputId": "0bf6af7c-6b3a-43dd-b8ef-9f19da93d860"
      },
      "outputs": [
        {
          "output_type": "execute_result",
          "data": {
            "text/plain": [
              "Index(['EmpID', 'GenderID', 'EmpStatusID', 'DeptID', 'PerfScoreID', 'Salary',\n",
              "       'Termd', 'Position', 'State', 'DOB', 'Sex', 'MaritalDesc',\n",
              "       'CitizenDesc', 'RaceDesc', 'DateofHire', 'DateofTermination',\n",
              "       'TermReason', 'EmploymentStatus', 'Department', 'ManagerName',\n",
              "       'RecruitmentSource', 'PerformanceScore', 'EngagementSurvey',\n",
              "       'EmpSatisfaction', 'LastPerformanceReview_Date', 'Absences', 'Age',\n",
              "       'Year', 'service_length'],\n",
              "      dtype='object')"
            ]
          },
          "metadata": {},
          "execution_count": 52
        }
      ],
      "source": [
        "df.columns"
      ]
    },
    {
      "cell_type": "code",
      "execution_count": null,
      "id": "d63832aa",
      "metadata": {
        "colab": {
          "base_uri": "https://localhost:8080/",
          "height": 206
        },
        "id": "d63832aa",
        "outputId": "3101ed85-1997-43eb-cc63-a3b3dd770108"
      },
      "outputs": [
        {
          "output_type": "execute_result",
          "data": {
            "text/plain": [
              "   GenderID  Salary  Termd         Department PerformanceScore  \\\n",
              "0         1   62506      0  Production                 Exceeds   \n",
              "1         1  104437      1              IT/IS      Fully Meets   \n",
              "2         0   64955      1  Production             Fully Meets   \n",
              "3         0   64991      0  Production             Fully Meets   \n",
              "4         0   50825      1  Production             Fully Meets   \n",
              "\n",
              "   EngagementSurvey  EmpSatisfaction  Age  \n",
              "0              4.60                5   39  \n",
              "1              4.96                3   47  \n",
              "2              3.02                3   34  \n",
              "3              4.84                5   34  \n",
              "4              5.00                4   33  "
            ],
            "text/html": [
              "\n",
              "  <div id=\"df-eb82b3d2-cb44-4348-aa0a-996e5fe20801\">\n",
              "    <div class=\"colab-df-container\">\n",
              "      <div>\n",
              "<style scoped>\n",
              "    .dataframe tbody tr th:only-of-type {\n",
              "        vertical-align: middle;\n",
              "    }\n",
              "\n",
              "    .dataframe tbody tr th {\n",
              "        vertical-align: top;\n",
              "    }\n",
              "\n",
              "    .dataframe thead th {\n",
              "        text-align: right;\n",
              "    }\n",
              "</style>\n",
              "<table border=\"1\" class=\"dataframe\">\n",
              "  <thead>\n",
              "    <tr style=\"text-align: right;\">\n",
              "      <th></th>\n",
              "      <th>GenderID</th>\n",
              "      <th>Salary</th>\n",
              "      <th>Termd</th>\n",
              "      <th>Department</th>\n",
              "      <th>PerformanceScore</th>\n",
              "      <th>EngagementSurvey</th>\n",
              "      <th>EmpSatisfaction</th>\n",
              "      <th>Age</th>\n",
              "    </tr>\n",
              "  </thead>\n",
              "  <tbody>\n",
              "    <tr>\n",
              "      <th>0</th>\n",
              "      <td>1</td>\n",
              "      <td>62506</td>\n",
              "      <td>0</td>\n",
              "      <td>Production</td>\n",
              "      <td>Exceeds</td>\n",
              "      <td>4.60</td>\n",
              "      <td>5</td>\n",
              "      <td>39</td>\n",
              "    </tr>\n",
              "    <tr>\n",
              "      <th>1</th>\n",
              "      <td>1</td>\n",
              "      <td>104437</td>\n",
              "      <td>1</td>\n",
              "      <td>IT/IS</td>\n",
              "      <td>Fully Meets</td>\n",
              "      <td>4.96</td>\n",
              "      <td>3</td>\n",
              "      <td>47</td>\n",
              "    </tr>\n",
              "    <tr>\n",
              "      <th>2</th>\n",
              "      <td>0</td>\n",
              "      <td>64955</td>\n",
              "      <td>1</td>\n",
              "      <td>Production</td>\n",
              "      <td>Fully Meets</td>\n",
              "      <td>3.02</td>\n",
              "      <td>3</td>\n",
              "      <td>34</td>\n",
              "    </tr>\n",
              "    <tr>\n",
              "      <th>3</th>\n",
              "      <td>0</td>\n",
              "      <td>64991</td>\n",
              "      <td>0</td>\n",
              "      <td>Production</td>\n",
              "      <td>Fully Meets</td>\n",
              "      <td>4.84</td>\n",
              "      <td>5</td>\n",
              "      <td>34</td>\n",
              "    </tr>\n",
              "    <tr>\n",
              "      <th>4</th>\n",
              "      <td>0</td>\n",
              "      <td>50825</td>\n",
              "      <td>1</td>\n",
              "      <td>Production</td>\n",
              "      <td>Fully Meets</td>\n",
              "      <td>5.00</td>\n",
              "      <td>4</td>\n",
              "      <td>33</td>\n",
              "    </tr>\n",
              "  </tbody>\n",
              "</table>\n",
              "</div>\n",
              "      <button class=\"colab-df-convert\" onclick=\"convertToInteractive('df-eb82b3d2-cb44-4348-aa0a-996e5fe20801')\"\n",
              "              title=\"Convert this dataframe to an interactive table.\"\n",
              "              style=\"display:none;\">\n",
              "        \n",
              "  <svg xmlns=\"http://www.w3.org/2000/svg\" height=\"24px\"viewBox=\"0 0 24 24\"\n",
              "       width=\"24px\">\n",
              "    <path d=\"M0 0h24v24H0V0z\" fill=\"none\"/>\n",
              "    <path d=\"M18.56 5.44l.94 2.06.94-2.06 2.06-.94-2.06-.94-.94-2.06-.94 2.06-2.06.94zm-11 1L8.5 8.5l.94-2.06 2.06-.94-2.06-.94L8.5 2.5l-.94 2.06-2.06.94zm10 10l.94 2.06.94-2.06 2.06-.94-2.06-.94-.94-2.06-.94 2.06-2.06.94z\"/><path d=\"M17.41 7.96l-1.37-1.37c-.4-.4-.92-.59-1.43-.59-.52 0-1.04.2-1.43.59L10.3 9.45l-7.72 7.72c-.78.78-.78 2.05 0 2.83L4 21.41c.39.39.9.59 1.41.59.51 0 1.02-.2 1.41-.59l7.78-7.78 2.81-2.81c.8-.78.8-2.07 0-2.86zM5.41 20L4 18.59l7.72-7.72 1.47 1.35L5.41 20z\"/>\n",
              "  </svg>\n",
              "      </button>\n",
              "      \n",
              "  <style>\n",
              "    .colab-df-container {\n",
              "      display:flex;\n",
              "      flex-wrap:wrap;\n",
              "      gap: 12px;\n",
              "    }\n",
              "\n",
              "    .colab-df-convert {\n",
              "      background-color: #E8F0FE;\n",
              "      border: none;\n",
              "      border-radius: 50%;\n",
              "      cursor: pointer;\n",
              "      display: none;\n",
              "      fill: #1967D2;\n",
              "      height: 32px;\n",
              "      padding: 0 0 0 0;\n",
              "      width: 32px;\n",
              "    }\n",
              "\n",
              "    .colab-df-convert:hover {\n",
              "      background-color: #E2EBFA;\n",
              "      box-shadow: 0px 1px 2px rgba(60, 64, 67, 0.3), 0px 1px 3px 1px rgba(60, 64, 67, 0.15);\n",
              "      fill: #174EA6;\n",
              "    }\n",
              "\n",
              "    [theme=dark] .colab-df-convert {\n",
              "      background-color: #3B4455;\n",
              "      fill: #D2E3FC;\n",
              "    }\n",
              "\n",
              "    [theme=dark] .colab-df-convert:hover {\n",
              "      background-color: #434B5C;\n",
              "      box-shadow: 0px 1px 3px 1px rgba(0, 0, 0, 0.15);\n",
              "      filter: drop-shadow(0px 1px 2px rgba(0, 0, 0, 0.3));\n",
              "      fill: #FFFFFF;\n",
              "    }\n",
              "  </style>\n",
              "\n",
              "      <script>\n",
              "        const buttonEl =\n",
              "          document.querySelector('#df-eb82b3d2-cb44-4348-aa0a-996e5fe20801 button.colab-df-convert');\n",
              "        buttonEl.style.display =\n",
              "          google.colab.kernel.accessAllowed ? 'block' : 'none';\n",
              "\n",
              "        async function convertToInteractive(key) {\n",
              "          const element = document.querySelector('#df-eb82b3d2-cb44-4348-aa0a-996e5fe20801');\n",
              "          const dataTable =\n",
              "            await google.colab.kernel.invokeFunction('convertToInteractive',\n",
              "                                                     [key], {});\n",
              "          if (!dataTable) return;\n",
              "\n",
              "          const docLinkHtml = 'Like what you see? Visit the ' +\n",
              "            '<a target=\"_blank\" href=https://colab.research.google.com/notebooks/data_table.ipynb>data table notebook</a>'\n",
              "            + ' to learn more about interactive tables.';\n",
              "          element.innerHTML = '';\n",
              "          dataTable['output_type'] = 'display_data';\n",
              "          await google.colab.output.renderOutput(dataTable, element);\n",
              "          const docLink = document.createElement('div');\n",
              "          docLink.innerHTML = docLinkHtml;\n",
              "          element.appendChild(docLink);\n",
              "        }\n",
              "      </script>\n",
              "    </div>\n",
              "  </div>\n",
              "  "
            ]
          },
          "metadata": {},
          "execution_count": 53
        }
      ],
      "source": [
        "df1 = df[['GenderID','Salary', 'Termd', 'Department','PerformanceScore','EngagementSurvey','EmpSatisfaction','Age']]\n",
        "df1.head()"
      ]
    },
    {
      "cell_type": "markdown",
      "id": "220b4f23",
      "metadata": {
        "id": "220b4f23"
      },
      "source": [
        "SINCE THE ANALYTICAL QUESTION IS INTERESTED IN PREDICTING THE NUMBER OF PEOPLE THAT MAY TERMINATE THEIR APPOINTMENT, THE COLUMN WITH THE 'Termd' IS OUR INTEREST.  "
      ]
    },
    {
      "cell_type": "code",
      "execution_count": null,
      "id": "d83122b1",
      "metadata": {
        "colab": {
          "base_uri": "https://localhost:8080/"
        },
        "id": "d83122b1",
        "outputId": "1a114744-53cd-4430-fec8-5b94db5a10ec"
      },
      "outputs": [
        {
          "output_type": "execute_result",
          "data": {
            "text/plain": [
              "(311, 8)"
            ]
          },
          "metadata": {},
          "execution_count": 54
        }
      ],
      "source": [
        "df1.shape"
      ]
    },
    {
      "cell_type": "code",
      "execution_count": null,
      "id": "e25886c1",
      "metadata": {
        "colab": {
          "base_uri": "https://localhost:8080/"
        },
        "id": "e25886c1",
        "outputId": "bbecc458-09e5-4dbf-8b74-f7e463dd2bca"
      },
      "outputs": [
        {
          "output_type": "execute_result",
          "data": {
            "text/plain": [
              "<bound method DataFrame.info of      GenderID  Salary  Termd         Department PerformanceScore  \\\n",
              "0           1   62506      0  Production                 Exceeds   \n",
              "1           1  104437      1              IT/IS      Fully Meets   \n",
              "2           0   64955      1  Production             Fully Meets   \n",
              "3           0   64991      0  Production             Fully Meets   \n",
              "4           0   50825      1  Production             Fully Meets   \n",
              "..        ...     ...    ...                ...              ...   \n",
              "306         1   65893      0  Production             Fully Meets   \n",
              "307         0   48513      1  Production                     PIP   \n",
              "308         0  220450      0              IT/IS          Exceeds   \n",
              "309         0   89292      0              IT/IS      Fully Meets   \n",
              "310         0   45046      0  Production             Fully Meets   \n",
              "\n",
              "     EngagementSurvey  EmpSatisfaction  Age  \n",
              "0                4.60                5   39  \n",
              "1                4.96                3   47  \n",
              "2                3.02                3   34  \n",
              "3                4.84                5   34  \n",
              "4                5.00                4   33  \n",
              "..                ...              ...  ...  \n",
              "306              4.07                4   37  \n",
              "307              3.20                2   40  \n",
              "308              4.60                5   43  \n",
              "309              5.00                3   43  \n",
              "310              4.50                5   44  \n",
              "\n",
              "[311 rows x 8 columns]>"
            ]
          },
          "metadata": {},
          "execution_count": 55
        }
      ],
      "source": [
        "df1.info"
      ]
    },
    {
      "cell_type": "code",
      "execution_count": null,
      "id": "46e64597",
      "metadata": {
        "colab": {
          "base_uri": "https://localhost:8080/"
        },
        "id": "46e64597",
        "outputId": "f036b7e2-9482-4640-c3b1-0851625fa1db"
      },
      "outputs": [
        {
          "output_type": "execute_result",
          "data": {
            "text/plain": [
              "GenderID            0\n",
              "Salary              0\n",
              "Termd               0\n",
              "Department          0\n",
              "PerformanceScore    0\n",
              "EngagementSurvey    0\n",
              "EmpSatisfaction     0\n",
              "Age                 0\n",
              "dtype: int64"
            ]
          },
          "metadata": {},
          "execution_count": 56
        }
      ],
      "source": [
        "df1.isna().sum()"
      ]
    },
    {
      "cell_type": "markdown",
      "id": "19cb7b2c",
      "metadata": {
        "id": "19cb7b2c"
      },
      "source": [
        "FEATURE ENGINEERING"
      ]
    },
    {
      "cell_type": "code",
      "execution_count": null,
      "id": "ef1affac",
      "metadata": {
        "colab": {
          "base_uri": "https://localhost:8080/"
        },
        "id": "ef1affac",
        "outputId": "f43d070b-cecf-47a5-ce78-0dd120f30666"
      },
      "outputs": [
        {
          "output_type": "execute_result",
          "data": {
            "text/plain": [
              "array(['Exceeds', 'Fully Meets', 'Needs Improvement', 'PIP'], dtype=object)"
            ]
          },
          "metadata": {},
          "execution_count": 58
        }
      ],
      "source": [
        "df1['PerformanceScore'].unique()\n"
      ]
    },
    {
      "cell_type": "code",
      "execution_count": null,
      "id": "7aa80320",
      "metadata": {
        "colab": {
          "base_uri": "https://localhost:8080/"
        },
        "id": "7aa80320",
        "outputId": "504c6fde-5daa-416e-e98e-d7bd2dd92bbe"
      },
      "outputs": [
        {
          "output_type": "execute_result",
          "data": {
            "text/plain": [
              "array(['Production       ', 'IT/IS', 'Software Engineering',\n",
              "       'Admin Offices', 'Sales', 'Executive Office'], dtype=object)"
            ]
          },
          "metadata": {},
          "execution_count": 59
        }
      ],
      "source": [
        "df1['Department'].unique()"
      ]
    },
    {
      "cell_type": "code",
      "source": [
        "df1['Termd'].unique()"
      ],
      "metadata": {
        "colab": {
          "base_uri": "https://localhost:8080/"
        },
        "id": "-KImArUHxvv_",
        "outputId": "ea84b1c3-921f-4276-dbe6-ca211ba35005"
      },
      "id": "-KImArUHxvv_",
      "execution_count": null,
      "outputs": [
        {
          "output_type": "execute_result",
          "data": {
            "text/plain": [
              "array([0, 1])"
            ]
          },
          "metadata": {},
          "execution_count": 60
        }
      ]
    },
    {
      "cell_type": "code",
      "execution_count": null,
      "id": "42e224b8",
      "metadata": {
        "colab": {
          "base_uri": "https://localhost:8080/"
        },
        "id": "42e224b8",
        "outputId": "50dc76a3-1e66-4b54-dfc3-5585f723c86b"
      },
      "outputs": [
        {
          "output_type": "stream",
          "name": "stderr",
          "text": [
            "<ipython-input-61-9e3e102bf4cd>:2: SettingWithCopyWarning: \n",
            "A value is trying to be set on a copy of a slice from a DataFrame\n",
            "\n",
            "See the caveats in the documentation: https://pandas.pydata.org/pandas-docs/stable/user_guide/indexing.html#returning-a-view-versus-a-copy\n",
            "  df1.Department[df1.Department == 'Production       '] = 1\n",
            "/usr/local/lib/python3.8/dist-packages/pandas/core/generic.py:8870: SettingWithCopyWarning: \n",
            "A value is trying to be set on a copy of a slice from a DataFrame\n",
            "\n",
            "See the caveats in the documentation: https://pandas.pydata.org/pandas-docs/stable/user_guide/indexing.html#returning-a-view-versus-a-copy\n",
            "  return self._update_inplace(result)\n",
            "<ipython-input-61-9e3e102bf4cd>:3: SettingWithCopyWarning: \n",
            "A value is trying to be set on a copy of a slice from a DataFrame\n",
            "\n",
            "See the caveats in the documentation: https://pandas.pydata.org/pandas-docs/stable/user_guide/indexing.html#returning-a-view-versus-a-copy\n",
            "  df1.Department[df1.Department == 'IT/IS'] = 2\n",
            "<ipython-input-61-9e3e102bf4cd>:4: SettingWithCopyWarning: \n",
            "A value is trying to be set on a copy of a slice from a DataFrame\n",
            "\n",
            "See the caveats in the documentation: https://pandas.pydata.org/pandas-docs/stable/user_guide/indexing.html#returning-a-view-versus-a-copy\n",
            "  df1.Department[df1.Department == 'Software Engineering'] = 3\n",
            "<ipython-input-61-9e3e102bf4cd>:5: SettingWithCopyWarning: \n",
            "A value is trying to be set on a copy of a slice from a DataFrame\n",
            "\n",
            "See the caveats in the documentation: https://pandas.pydata.org/pandas-docs/stable/user_guide/indexing.html#returning-a-view-versus-a-copy\n",
            "  df1.Department[df1.Department == 'Admin Offices'] = 4\n",
            "<ipython-input-61-9e3e102bf4cd>:6: SettingWithCopyWarning: \n",
            "A value is trying to be set on a copy of a slice from a DataFrame\n",
            "\n",
            "See the caveats in the documentation: https://pandas.pydata.org/pandas-docs/stable/user_guide/indexing.html#returning-a-view-versus-a-copy\n",
            "  df1.Department[df1.Department == 'Sales'] = 5\n",
            "<ipython-input-61-9e3e102bf4cd>:7: SettingWithCopyWarning: \n",
            "A value is trying to be set on a copy of a slice from a DataFrame\n",
            "\n",
            "See the caveats in the documentation: https://pandas.pydata.org/pandas-docs/stable/user_guide/indexing.html#returning-a-view-versus-a-copy\n",
            "  df1.Department[df1.Department == 'Executive Office'] = 6\n",
            "<ipython-input-61-9e3e102bf4cd>:9: SettingWithCopyWarning: \n",
            "A value is trying to be set on a copy of a slice from a DataFrame\n",
            "\n",
            "See the caveats in the documentation: https://pandas.pydata.org/pandas-docs/stable/user_guide/indexing.html#returning-a-view-versus-a-copy\n",
            "  df1.PerformanceScore[df1.PerformanceScore == 'PIP'] = 1\n",
            "<ipython-input-61-9e3e102bf4cd>:10: SettingWithCopyWarning: \n",
            "A value is trying to be set on a copy of a slice from a DataFrame\n",
            "\n",
            "See the caveats in the documentation: https://pandas.pydata.org/pandas-docs/stable/user_guide/indexing.html#returning-a-view-versus-a-copy\n",
            "  df1.PerformanceScore[df1.PerformanceScore == 'Needs Improvement'] = 2\n",
            "<ipython-input-61-9e3e102bf4cd>:11: SettingWithCopyWarning: \n",
            "A value is trying to be set on a copy of a slice from a DataFrame\n",
            "\n",
            "See the caveats in the documentation: https://pandas.pydata.org/pandas-docs/stable/user_guide/indexing.html#returning-a-view-versus-a-copy\n",
            "  df1.PerformanceScore[df1.PerformanceScore == 'Fully Meets'] = 3\n",
            "<ipython-input-61-9e3e102bf4cd>:12: SettingWithCopyWarning: \n",
            "A value is trying to be set on a copy of a slice from a DataFrame\n",
            "\n",
            "See the caveats in the documentation: https://pandas.pydata.org/pandas-docs/stable/user_guide/indexing.html#returning-a-view-versus-a-copy\n",
            "  df1.PerformanceScore[df1.PerformanceScore == 'Exceeds'] = 4\n"
          ]
        }
      ],
      "source": [
        "#Converting to numeric values\n",
        "df1.Department[df1.Department == 'Production       '] = 1\n",
        "df1.Department[df1.Department == 'IT/IS'] = 2\n",
        "df1.Department[df1.Department == 'Software Engineering'] = 3\n",
        "df1.Department[df1.Department == 'Admin Offices'] = 4\n",
        "df1.Department[df1.Department == 'Sales'] = 5\n",
        "df1.Department[df1.Department == 'Executive Office'] = 6\n",
        "\n",
        "df1.PerformanceScore[df1.PerformanceScore == 'PIP'] = 1\n",
        "df1.PerformanceScore[df1.PerformanceScore == 'Needs Improvement'] = 2\n",
        "df1.PerformanceScore[df1.PerformanceScore == 'Fully Meets'] = 3\n",
        "df1.PerformanceScore[df1.PerformanceScore == 'Exceeds'] = 4"
      ]
    },
    {
      "cell_type": "code",
      "execution_count": null,
      "id": "8edc85b7",
      "metadata": {
        "colab": {
          "base_uri": "https://localhost:8080/",
          "height": 423
        },
        "id": "8edc85b7",
        "outputId": "c42f1ad5-d0d1-4ef9-a6b3-30562069dbc1"
      },
      "outputs": [
        {
          "output_type": "execute_result",
          "data": {
            "text/plain": [
              "     GenderID  Salary  Department  PerformanceScore  EmpSatisfaction  \\\n",
              "0           1   62506           1                 4                5   \n",
              "1           1  104437           2                 3                3   \n",
              "2           0   64955           1                 3                3   \n",
              "3           0   64991           1                 3                5   \n",
              "4           0   50825           1                 3                4   \n",
              "..        ...     ...         ...               ...              ...   \n",
              "306         1   65893           1                 3                4   \n",
              "307         0   48513           1                 1                2   \n",
              "308         0  220450           2                 4                5   \n",
              "309         0   89292           2                 3                3   \n",
              "310         0   45046           1                 3                5   \n",
              "\n",
              "     EngagementSurvey  Age  \n",
              "0                   4   39  \n",
              "1                   4   47  \n",
              "2                   3   34  \n",
              "3                   4   34  \n",
              "4                   5   33  \n",
              "..                ...  ...  \n",
              "306                 4   37  \n",
              "307                 3   40  \n",
              "308                 4   43  \n",
              "309                 5   43  \n",
              "310                 4   44  \n",
              "\n",
              "[311 rows x 7 columns]"
            ],
            "text/html": [
              "\n",
              "  <div id=\"df-4e04851d-21ac-483a-b2a3-761a41c05553\">\n",
              "    <div class=\"colab-df-container\">\n",
              "      <div>\n",
              "<style scoped>\n",
              "    .dataframe tbody tr th:only-of-type {\n",
              "        vertical-align: middle;\n",
              "    }\n",
              "\n",
              "    .dataframe tbody tr th {\n",
              "        vertical-align: top;\n",
              "    }\n",
              "\n",
              "    .dataframe thead th {\n",
              "        text-align: right;\n",
              "    }\n",
              "</style>\n",
              "<table border=\"1\" class=\"dataframe\">\n",
              "  <thead>\n",
              "    <tr style=\"text-align: right;\">\n",
              "      <th></th>\n",
              "      <th>GenderID</th>\n",
              "      <th>Salary</th>\n",
              "      <th>Department</th>\n",
              "      <th>PerformanceScore</th>\n",
              "      <th>EmpSatisfaction</th>\n",
              "      <th>EngagementSurvey</th>\n",
              "      <th>Age</th>\n",
              "    </tr>\n",
              "  </thead>\n",
              "  <tbody>\n",
              "    <tr>\n",
              "      <th>0</th>\n",
              "      <td>1</td>\n",
              "      <td>62506</td>\n",
              "      <td>1</td>\n",
              "      <td>4</td>\n",
              "      <td>5</td>\n",
              "      <td>4</td>\n",
              "      <td>39</td>\n",
              "    </tr>\n",
              "    <tr>\n",
              "      <th>1</th>\n",
              "      <td>1</td>\n",
              "      <td>104437</td>\n",
              "      <td>2</td>\n",
              "      <td>3</td>\n",
              "      <td>3</td>\n",
              "      <td>4</td>\n",
              "      <td>47</td>\n",
              "    </tr>\n",
              "    <tr>\n",
              "      <th>2</th>\n",
              "      <td>0</td>\n",
              "      <td>64955</td>\n",
              "      <td>1</td>\n",
              "      <td>3</td>\n",
              "      <td>3</td>\n",
              "      <td>3</td>\n",
              "      <td>34</td>\n",
              "    </tr>\n",
              "    <tr>\n",
              "      <th>3</th>\n",
              "      <td>0</td>\n",
              "      <td>64991</td>\n",
              "      <td>1</td>\n",
              "      <td>3</td>\n",
              "      <td>5</td>\n",
              "      <td>4</td>\n",
              "      <td>34</td>\n",
              "    </tr>\n",
              "    <tr>\n",
              "      <th>4</th>\n",
              "      <td>0</td>\n",
              "      <td>50825</td>\n",
              "      <td>1</td>\n",
              "      <td>3</td>\n",
              "      <td>4</td>\n",
              "      <td>5</td>\n",
              "      <td>33</td>\n",
              "    </tr>\n",
              "    <tr>\n",
              "      <th>...</th>\n",
              "      <td>...</td>\n",
              "      <td>...</td>\n",
              "      <td>...</td>\n",
              "      <td>...</td>\n",
              "      <td>...</td>\n",
              "      <td>...</td>\n",
              "      <td>...</td>\n",
              "    </tr>\n",
              "    <tr>\n",
              "      <th>306</th>\n",
              "      <td>1</td>\n",
              "      <td>65893</td>\n",
              "      <td>1</td>\n",
              "      <td>3</td>\n",
              "      <td>4</td>\n",
              "      <td>4</td>\n",
              "      <td>37</td>\n",
              "    </tr>\n",
              "    <tr>\n",
              "      <th>307</th>\n",
              "      <td>0</td>\n",
              "      <td>48513</td>\n",
              "      <td>1</td>\n",
              "      <td>1</td>\n",
              "      <td>2</td>\n",
              "      <td>3</td>\n",
              "      <td>40</td>\n",
              "    </tr>\n",
              "    <tr>\n",
              "      <th>308</th>\n",
              "      <td>0</td>\n",
              "      <td>220450</td>\n",
              "      <td>2</td>\n",
              "      <td>4</td>\n",
              "      <td>5</td>\n",
              "      <td>4</td>\n",
              "      <td>43</td>\n",
              "    </tr>\n",
              "    <tr>\n",
              "      <th>309</th>\n",
              "      <td>0</td>\n",
              "      <td>89292</td>\n",
              "      <td>2</td>\n",
              "      <td>3</td>\n",
              "      <td>3</td>\n",
              "      <td>5</td>\n",
              "      <td>43</td>\n",
              "    </tr>\n",
              "    <tr>\n",
              "      <th>310</th>\n",
              "      <td>0</td>\n",
              "      <td>45046</td>\n",
              "      <td>1</td>\n",
              "      <td>3</td>\n",
              "      <td>5</td>\n",
              "      <td>4</td>\n",
              "      <td>44</td>\n",
              "    </tr>\n",
              "  </tbody>\n",
              "</table>\n",
              "<p>311 rows × 7 columns</p>\n",
              "</div>\n",
              "      <button class=\"colab-df-convert\" onclick=\"convertToInteractive('df-4e04851d-21ac-483a-b2a3-761a41c05553')\"\n",
              "              title=\"Convert this dataframe to an interactive table.\"\n",
              "              style=\"display:none;\">\n",
              "        \n",
              "  <svg xmlns=\"http://www.w3.org/2000/svg\" height=\"24px\"viewBox=\"0 0 24 24\"\n",
              "       width=\"24px\">\n",
              "    <path d=\"M0 0h24v24H0V0z\" fill=\"none\"/>\n",
              "    <path d=\"M18.56 5.44l.94 2.06.94-2.06 2.06-.94-2.06-.94-.94-2.06-.94 2.06-2.06.94zm-11 1L8.5 8.5l.94-2.06 2.06-.94-2.06-.94L8.5 2.5l-.94 2.06-2.06.94zm10 10l.94 2.06.94-2.06 2.06-.94-2.06-.94-.94-2.06-.94 2.06-2.06.94z\"/><path d=\"M17.41 7.96l-1.37-1.37c-.4-.4-.92-.59-1.43-.59-.52 0-1.04.2-1.43.59L10.3 9.45l-7.72 7.72c-.78.78-.78 2.05 0 2.83L4 21.41c.39.39.9.59 1.41.59.51 0 1.02-.2 1.41-.59l7.78-7.78 2.81-2.81c.8-.78.8-2.07 0-2.86zM5.41 20L4 18.59l7.72-7.72 1.47 1.35L5.41 20z\"/>\n",
              "  </svg>\n",
              "      </button>\n",
              "      \n",
              "  <style>\n",
              "    .colab-df-container {\n",
              "      display:flex;\n",
              "      flex-wrap:wrap;\n",
              "      gap: 12px;\n",
              "    }\n",
              "\n",
              "    .colab-df-convert {\n",
              "      background-color: #E8F0FE;\n",
              "      border: none;\n",
              "      border-radius: 50%;\n",
              "      cursor: pointer;\n",
              "      display: none;\n",
              "      fill: #1967D2;\n",
              "      height: 32px;\n",
              "      padding: 0 0 0 0;\n",
              "      width: 32px;\n",
              "    }\n",
              "\n",
              "    .colab-df-convert:hover {\n",
              "      background-color: #E2EBFA;\n",
              "      box-shadow: 0px 1px 2px rgba(60, 64, 67, 0.3), 0px 1px 3px 1px rgba(60, 64, 67, 0.15);\n",
              "      fill: #174EA6;\n",
              "    }\n",
              "\n",
              "    [theme=dark] .colab-df-convert {\n",
              "      background-color: #3B4455;\n",
              "      fill: #D2E3FC;\n",
              "    }\n",
              "\n",
              "    [theme=dark] .colab-df-convert:hover {\n",
              "      background-color: #434B5C;\n",
              "      box-shadow: 0px 1px 3px 1px rgba(0, 0, 0, 0.15);\n",
              "      filter: drop-shadow(0px 1px 2px rgba(0, 0, 0, 0.3));\n",
              "      fill: #FFFFFF;\n",
              "    }\n",
              "  </style>\n",
              "\n",
              "      <script>\n",
              "        const buttonEl =\n",
              "          document.querySelector('#df-4e04851d-21ac-483a-b2a3-761a41c05553 button.colab-df-convert');\n",
              "        buttonEl.style.display =\n",
              "          google.colab.kernel.accessAllowed ? 'block' : 'none';\n",
              "\n",
              "        async function convertToInteractive(key) {\n",
              "          const element = document.querySelector('#df-4e04851d-21ac-483a-b2a3-761a41c05553');\n",
              "          const dataTable =\n",
              "            await google.colab.kernel.invokeFunction('convertToInteractive',\n",
              "                                                     [key], {});\n",
              "          if (!dataTable) return;\n",
              "\n",
              "          const docLinkHtml = 'Like what you see? Visit the ' +\n",
              "            '<a target=\"_blank\" href=https://colab.research.google.com/notebooks/data_table.ipynb>data table notebook</a>'\n",
              "            + ' to learn more about interactive tables.';\n",
              "          element.innerHTML = '';\n",
              "          dataTable['output_type'] = 'display_data';\n",
              "          await google.colab.output.renderOutput(dataTable, element);\n",
              "          const docLink = document.createElement('div');\n",
              "          docLink.innerHTML = docLinkHtml;\n",
              "          element.appendChild(docLink);\n",
              "        }\n",
              "      </script>\n",
              "    </div>\n",
              "  </div>\n",
              "  "
            ]
          },
          "metadata": {},
          "execution_count": 63
        }
      ],
      "source": [
        "#changing data type to integer\n",
        "X= df1[['GenderID','Salary','Department','PerformanceScore','EmpSatisfaction','EngagementSurvey','Age']]\n",
        "X= X.astype('int')\n",
        "X"
      ]
    },
    {
      "cell_type": "markdown",
      "source": [
        "Standardization of the data"
      ],
      "metadata": {
        "id": "Jn_MPbsftJA6"
      },
      "id": "Jn_MPbsftJA6"
    },
    {
      "cell_type": "code",
      "source": [
        "X=stats.zscore(X)"
      ],
      "metadata": {
        "id": "kLC_mSGGs5F-"
      },
      "id": "kLC_mSGGs5F-",
      "execution_count": null,
      "outputs": []
    },
    {
      "cell_type": "code",
      "source": [
        "y = df1['Termd']\n",
        "y.head()"
      ],
      "metadata": {
        "colab": {
          "base_uri": "https://localhost:8080/"
        },
        "id": "7n-EqzDyx-NQ",
        "outputId": "f8912911-5ed8-4f71-f90f-039591e59940"
      },
      "id": "7n-EqzDyx-NQ",
      "execution_count": null,
      "outputs": [
        {
          "output_type": "execute_result",
          "data": {
            "text/plain": [
              "0    0\n",
              "1    1\n",
              "2    1\n",
              "3    0\n",
              "4    1\n",
              "Name: Termd, dtype: int64"
            ]
          },
          "metadata": {},
          "execution_count": 65
        }
      ]
    },
    {
      "cell_type": "markdown",
      "source": [
        "Modelling - Train_Test_Split"
      ],
      "metadata": {
        "id": "1GT_0z4Xsaos"
      },
      "id": "1GT_0z4Xsaos"
    },
    {
      "cell_type": "code",
      "execution_count": null,
      "id": "66ecfb30",
      "metadata": {
        "colab": {
          "base_uri": "https://localhost:8080/"
        },
        "id": "66ecfb30",
        "outputId": "c0f959c3-7308-49b6-f15c-98d240fbf761"
      },
      "outputs": [
        {
          "output_type": "stream",
          "name": "stdout",
          "text": [
            "(248, 7) (248,) (63, 7) (63,)\n"
          ]
        }
      ],
      "source": [
        "from sklearn.model_selection import train_test_split\n",
        "X_train, X_test, y_train, y_test = train_test_split(X, y, test_size=0.2)\n",
        "print(X_train.shape, y_train.shape, X_test.shape, y_test.shape)"
      ]
    },
    {
      "cell_type": "markdown",
      "source": [
        "**Machine Learning Algorithm; Using KNN Classification model**"
      ],
      "metadata": {
        "id": "TU6KjLfhtuHP"
      },
      "id": "TU6KjLfhtuHP"
    },
    {
      "cell_type": "code",
      "execution_count": null,
      "id": "cb6c6946",
      "metadata": {
        "id": "cb6c6946"
      },
      "outputs": [],
      "source": [
        "from sklearn.neighbors import KNeighborsClassifier\n",
        "import sklearn.metrics as metrics"
      ]
    },
    {
      "cell_type": "code",
      "execution_count": null,
      "id": "f5a41507",
      "metadata": {
        "id": "f5a41507",
        "colab": {
          "base_uri": "https://localhost:8080/"
        },
        "outputId": "3e4f2a22-0a84-493a-b644-a7ec66aa2a39"
      },
      "outputs": [
        {
          "output_type": "execute_result",
          "data": {
            "text/plain": [
              "KNeighborsClassifier(n_neighbors=8)"
            ]
          },
          "metadata": {},
          "execution_count": 68
        }
      ],
      "source": [
        "k = 8\n",
        "neigh = KNeighborsClassifier(n_neighbors = k)\n",
        "neigh.fit(X_train, y_train)"
      ]
    },
    {
      "cell_type": "markdown",
      "source": [
        "Predicting of number of employees that will retain or lose their jobs\n",
        "\n",
        "Having \"1\" as Active \"2\" as Voluntarily Terminated \"3\" as Terminated for Cause"
      ],
      "metadata": {
        "id": "69qgAgufnHHr"
      },
      "id": "69qgAgufnHHr"
    },
    {
      "cell_type": "code",
      "execution_count": null,
      "id": "496d316f",
      "metadata": {
        "colab": {
          "base_uri": "https://localhost:8080/"
        },
        "id": "496d316f",
        "outputId": "2d60891f-122a-467c-e38b-1222cf34e4fd"
      },
      "outputs": [
        {
          "output_type": "execute_result",
          "data": {
            "text/plain": [
              "array([0, 0, 0, 1, 1, 0, 0, 0, 0, 0, 0, 0, 0, 0, 0, 0, 0, 0, 0, 0, 0, 0,\n",
              "       0, 0, 0, 0, 0, 0, 1, 0, 0, 0, 0, 0, 0, 1, 0, 0, 0, 0, 0, 0, 0, 0,\n",
              "       0, 0, 0, 0, 0, 0, 0, 0, 0, 0, 0, 0, 0, 0, 0, 0, 0, 0, 0])"
            ]
          },
          "metadata": {},
          "execution_count": 69
        }
      ],
      "source": [
        "y_pred1 = neigh.predict(X_test)\n",
        "y_pred1"
      ]
    },
    {
      "cell_type": "code",
      "source": [
        "#Identifying the Unique outcomes of y_pred  \n",
        "x = np.array(y_pred1)\n",
        "print(np.unique(x))"
      ],
      "metadata": {
        "colab": {
          "base_uri": "https://localhost:8080/"
        },
        "id": "faEj9VK-k_O0",
        "outputId": "18f8f55a-6403-4c36-9e07-dfa9239b78b5"
      },
      "id": "faEj9VK-k_O0",
      "execution_count": null,
      "outputs": [
        {
          "output_type": "stream",
          "name": "stdout",
          "text": [
            "[0 1]\n"
          ]
        }
      ]
    },
    {
      "cell_type": "code",
      "source": [
        "import collections\n",
        "collections.Counter(x)"
      ],
      "metadata": {
        "id": "QOJsUyiUlP82",
        "outputId": "b213935d-c1be-4d54-848b-3d2ab65f796d",
        "colab": {
          "base_uri": "https://localhost:8080/"
        }
      },
      "id": "QOJsUyiUlP82",
      "execution_count": null,
      "outputs": [
        {
          "output_type": "execute_result",
          "data": {
            "text/plain": [
              "Counter({0: 59, 1: 4})"
            ]
          },
          "metadata": {},
          "execution_count": 71
        }
      ]
    },
    {
      "cell_type": "code",
      "source": [
        "print(len(x))"
      ],
      "metadata": {
        "colab": {
          "base_uri": "https://localhost:8080/"
        },
        "id": "ZmoLKwrGn1FF",
        "outputId": "277ac4b5-da7e-4298-d430-68798675b92a"
      },
      "id": "ZmoLKwrGn1FF",
      "execution_count": null,
      "outputs": [
        {
          "output_type": "stream",
          "name": "stdout",
          "text": [
            "63\n"
          ]
        }
      ]
    },
    {
      "cell_type": "code",
      "source": [
        "from sklearn.metrics import accuracy_score\n",
        "accuracy_score = accuracy_score(y_pred1, y_test)\n",
        "print('Accuracy score is {}%'.format(accuracy_score * 100))\n",
        "\n",
        "\n",
        "print(classification_report(y_test, y_pred1))"
      ],
      "metadata": {
        "colab": {
          "base_uri": "https://localhost:8080/"
        },
        "id": "nW-MyL8HLKq7",
        "outputId": "94bd8a44-7458-422b-9cb0-5368dedb1635"
      },
      "id": "nW-MyL8HLKq7",
      "execution_count": null,
      "outputs": [
        {
          "output_type": "stream",
          "name": "stdout",
          "text": [
            "Accuracy score is 68.25396825396825%\n",
            "              precision    recall  f1-score   support\n",
            "\n",
            "           0       0.71      0.93      0.81        45\n",
            "           1       0.25      0.06      0.09        18\n",
            "\n",
            "    accuracy                           0.68        63\n",
            "   macro avg       0.48      0.49      0.45        63\n",
            "weighted avg       0.58      0.68      0.60        63\n",
            "\n"
          ]
        }
      ]
    },
    {
      "cell_type": "code",
      "source": [
        "#Changing the value of K to confirm model accuracy\n",
        "Ks = 14\n",
        "mean_acc = np.zeros((Ks-1))\n",
        "for n in range(1,Ks):\n",
        "    \n",
        "    #Train Model and Predict  \n",
        "    neigh = KNeighborsClassifier(n_neighbors = n).fit(X_train,y_train)\n",
        "    y_pred1=neigh.predict(X_test)\n",
        "    mean_acc[n-1] = metrics.accuracy_score(y_test, y_pred1)\n",
        "\n",
        "mean_acc"
      ],
      "metadata": {
        "colab": {
          "base_uri": "https://localhost:8080/"
        },
        "id": "tbAKX5_tCew2",
        "outputId": "6cd91adf-7014-4fd7-f73a-4cee55ad3848"
      },
      "id": "tbAKX5_tCew2",
      "execution_count": null,
      "outputs": [
        {
          "output_type": "execute_result",
          "data": {
            "text/plain": [
              "array([0.50793651, 0.68253968, 0.63492063, 0.66666667, 0.68253968,\n",
              "       0.65079365, 0.61904762, 0.68253968, 0.61904762, 0.65079365,\n",
              "       0.65079365, 0.66666667, 0.61904762])"
            ]
          },
          "metadata": {},
          "execution_count": 74
        }
      ]
    },
    {
      "cell_type": "code",
      "source": [
        "#Plotting an accuracy graph\n",
        "plt.plot(range(1,Ks),mean_acc,'g')\n",
        "plt.ylabel('Accuracy ')\n",
        "plt.xlabel('Number of Neighbors (K)')\n",
        "plt.tight_layout()\n",
        "plt.show()"
      ],
      "metadata": {
        "colab": {
          "base_uri": "https://localhost:8080/",
          "height": 297
        },
        "id": "6HvvcMrsAc1Q",
        "outputId": "353e3555-f687-4e67-d95b-4dfb9f0a7b44"
      },
      "id": "6HvvcMrsAc1Q",
      "execution_count": null,
      "outputs": [
        {
          "output_type": "display_data",
          "data": {
            "text/plain": [
              "<Figure size 432x288 with 1 Axes>"
            ],
            "image/png": "[encoded data removed]"
          },
          "metadata": {
            "needs_background": "light"
          }
        }
      ]
    },
    {
      "cell_type": "markdown",
      "source": [
        "**Machine Learning Algorithm; Using Decision Tree Classification model as an alternative to validate earlier prediction**"
      ],
      "metadata": {
        "id": "caX5vO9GqBMY"
      },
      "id": "caX5vO9GqBMY"
    },
    {
      "cell_type": "code",
      "source": [
        "#target variable\n",
        "y.head()"
      ],
      "metadata": {
        "colab": {
          "base_uri": "https://localhost:8080/"
        },
        "id": "emeyZ8a_qt0Z",
        "outputId": "ed922970-b2d1-430d-9f88-0b019fbae1a5"
      },
      "id": "emeyZ8a_qt0Z",
      "execution_count": null,
      "outputs": [
        {
          "output_type": "execute_result",
          "data": {
            "text/plain": [
              "0    0\n",
              "1    1\n",
              "2    1\n",
              "3    0\n",
              "4    1\n",
              "Name: Termd, dtype: int64"
            ]
          },
          "metadata": {},
          "execution_count": 76
        }
      ]
    },
    {
      "cell_type": "code",
      "source": [
        "#setting up the decision tree\n",
        "term_tree = DecisionTreeClassifier(criterion=\"entropy\", max_depth = 4)\n",
        "term_tree"
      ],
      "metadata": {
        "colab": {
          "base_uri": "https://localhost:8080/"
        },
        "id": "g4L5WlCADcuz",
        "outputId": "d626541d-dd31-492c-b9b6-8229f50ace8b"
      },
      "id": "g4L5WlCADcuz",
      "execution_count": null,
      "outputs": [
        {
          "output_type": "execute_result",
          "data": {
            "text/plain": [
              "DecisionTreeClassifier(criterion='entropy', max_depth=4)"
            ]
          },
          "metadata": {},
          "execution_count": 77
        }
      ]
    },
    {
      "cell_type": "code",
      "source": [
        "#Fitting the data with the training feature matrix X_train and training response vector y_train\n",
        "term_tree.fit(X_train,y_train)"
      ],
      "metadata": {
        "colab": {
          "base_uri": "https://localhost:8080/"
        },
        "id": "F4an9FFbDvAu",
        "outputId": "ef52c87f-fcef-4bc8-f040-7003323c2fda"
      },
      "id": "F4an9FFbDvAu",
      "execution_count": null,
      "outputs": [
        {
          "output_type": "execute_result",
          "data": {
            "text/plain": [
              "DecisionTreeClassifier(criterion='entropy', max_depth=4)"
            ]
          },
          "metadata": {},
          "execution_count": 78
        }
      ]
    },
    {
      "cell_type": "code",
      "source": [
        "y_pred2 = term_tree.predict(X_test)\n",
        "y_pred2"
      ],
      "metadata": {
        "colab": {
          "base_uri": "https://localhost:8080/"
        },
        "id": "FlYZi1KAD3UM",
        "outputId": "bce0e995-02b3-4347-ebee-4345572bebea"
      },
      "id": "FlYZi1KAD3UM",
      "execution_count": null,
      "outputs": [
        {
          "output_type": "execute_result",
          "data": {
            "text/plain": [
              "array([0, 0, 0, 0, 0, 0, 0, 0, 0, 1, 0, 0, 0, 1, 0, 0, 0, 0, 0, 0, 0, 0,\n",
              "       0, 0, 0, 0, 0, 0, 0, 0, 0, 0, 0, 0, 0, 1, 0, 0, 1, 0, 0, 1, 1, 1,\n",
              "       0, 0, 0, 0, 0, 0, 0, 0, 1, 0, 0, 0, 1, 0, 0, 0, 0, 0, 0])"
            ]
          },
          "metadata": {},
          "execution_count": 79
        }
      ]
    },
    {
      "cell_type": "code",
      "source": [
        "collections.Counter(y_pred2)"
      ],
      "metadata": {
        "colab": {
          "base_uri": "https://localhost:8080/"
        },
        "id": "yAi_FYx1rNcf",
        "outputId": "0b96eddc-1536-4a2a-da0b-a92a53f2bb26"
      },
      "id": "yAi_FYx1rNcf",
      "execution_count": null,
      "outputs": [
        {
          "output_type": "execute_result",
          "data": {
            "text/plain": [
              "Counter({0: 54, 1: 9})"
            ]
          },
          "metadata": {},
          "execution_count": 80
        }
      ]
    },
    {
      "cell_type": "code",
      "source": [
        "from sklearn.metrics import accuracy_score\n",
        "accuracy_score = accuracy_score(y_pred2, y_test)\n",
        "print('Accuracy score is {}%'.format(accuracy_score * 100))\n",
        "\n",
        "\n",
        "print(classification_report(y_test, y_pred2))"
      ],
      "metadata": {
        "colab": {
          "base_uri": "https://localhost:8080/"
        },
        "id": "PEVgJ7dLMm0W",
        "outputId": "fa8a820a-7377-4a8a-dc46-b87d59fa0ea4"
      },
      "id": "PEVgJ7dLMm0W",
      "execution_count": null,
      "outputs": [
        {
          "output_type": "stream",
          "name": "stdout",
          "text": [
            "Accuracy score is 63.49206349206349%\n",
            "              precision    recall  f1-score   support\n",
            "\n",
            "           0       0.70      0.84      0.77        45\n",
            "           1       0.22      0.11      0.15        18\n",
            "\n",
            "    accuracy                           0.63        63\n",
            "   macro avg       0.46      0.48      0.46        63\n",
            "weighted avg       0.57      0.63      0.59        63\n",
            "\n"
          ]
        }
      ]
    },
    {
      "cell_type": "markdown",
      "source": [
        "**Machine Learning Algorithm; Using Random Forest Classification model as an alternative to validate earlier predictions**"
      ],
      "metadata": {
        "id": "iCRqvDC74JuR"
      },
      "id": "iCRqvDC74JuR"
    },
    {
      "cell_type": "code",
      "source": [
        "rfc = RandomForestClassifier(n_estimators=200)"
      ],
      "metadata": {
        "id": "BUTmtL9Q4P5m"
      },
      "id": "BUTmtL9Q4P5m",
      "execution_count": null,
      "outputs": []
    },
    {
      "cell_type": "code",
      "source": [
        "rfc.fit(X_train, y_train)"
      ],
      "metadata": {
        "colab": {
          "base_uri": "https://localhost:8080/"
        },
        "id": "JETFDh3T4kVR",
        "outputId": "331d9230-bec3-41d9-95af-d8011de7ffcb"
      },
      "id": "JETFDh3T4kVR",
      "execution_count": null,
      "outputs": [
        {
          "output_type": "execute_result",
          "data": {
            "text/plain": [
              "RandomForestClassifier(n_estimators=200)"
            ]
          },
          "metadata": {},
          "execution_count": 84
        }
      ]
    },
    {
      "cell_type": "code",
      "source": [
        "y_pred3 = rfc.predict(X_test)\n",
        "y_pred3"
      ],
      "metadata": {
        "colab": {
          "base_uri": "https://localhost:8080/"
        },
        "id": "iV0MfD1v4pob",
        "outputId": "78609303-35c8-4f43-8a87-790c772f24db"
      },
      "id": "iV0MfD1v4pob",
      "execution_count": null,
      "outputs": [
        {
          "output_type": "execute_result",
          "data": {
            "text/plain": [
              "array([1, 0, 0, 1, 1, 0, 0, 0, 0, 0, 0, 0, 0, 1, 0, 0, 0, 0, 0, 1, 0, 0,\n",
              "       0, 0, 0, 0, 0, 0, 0, 0, 1, 0, 1, 0, 0, 1, 0, 0, 1, 0, 0, 1, 1, 0,\n",
              "       0, 0, 1, 0, 0, 1, 0, 0, 1, 0, 0, 1, 0, 0, 0, 0, 0, 1, 0])"
            ]
          },
          "metadata": {},
          "execution_count": 85
        }
      ]
    },
    {
      "cell_type": "code",
      "source": [
        "collections.Counter(y_pred3)"
      ],
      "metadata": {
        "colab": {
          "base_uri": "https://localhost:8080/"
        },
        "id": "IV_d0KnZ49wX",
        "outputId": "5fa0241d-3c68-48d0-c6f5-b4dd8e365be1"
      },
      "id": "IV_d0KnZ49wX",
      "execution_count": null,
      "outputs": [
        {
          "output_type": "execute_result",
          "data": {
            "text/plain": [
              "Counter({1: 16, 0: 47})"
            ]
          },
          "metadata": {},
          "execution_count": 86
        }
      ]
    },
    {
      "cell_type": "code",
      "source": [
        "from sklearn.metrics import accuracy_score\n",
        "accuracy_score = accuracy_score(y_pred3, y_test)\n",
        "print('Accuracy score is {}%'.format(accuracy_score * 100))\n",
        "\n",
        "\n",
        "print(classification_report(y_test, y_pred3))"
      ],
      "metadata": {
        "colab": {
          "base_uri": "https://localhost:8080/"
        },
        "id": "Xz1-Ers2N2at",
        "outputId": "2f534eb2-c222-4922-944b-9a629f3a2912"
      },
      "id": "Xz1-Ers2N2at",
      "execution_count": null,
      "outputs": [
        {
          "output_type": "stream",
          "name": "stdout",
          "text": [
            "Accuracy score is 55.55555555555556%\n",
            "              precision    recall  f1-score   support\n",
            "\n",
            "           0       0.68      0.71      0.70        45\n",
            "           1       0.19      0.17      0.18        18\n",
            "\n",
            "    accuracy                           0.56        63\n",
            "   macro avg       0.43      0.44      0.44        63\n",
            "weighted avg       0.54      0.56      0.55        63\n",
            "\n"
          ]
        }
      ]
    },
    {
      "cell_type": "markdown",
      "source": [
        "HYPER PARAMETER TUNING"
      ],
      "metadata": {
        "id": "KslCLDGT7dH-"
      },
      "id": "KslCLDGT7dH-"
    },
    {
      "cell_type": "code",
      "source": [
        "from scipy.stats import randint\n",
        "from sklearn.model_selection import RandomizedSearchCV\n",
        "rfc = RandomForestClassifier()\n",
        "param_vals = {'max_depth': [80, None], 'max_features': randint(1, 9), 'n_estimators': [200, 400], 'min_samples_leaf': randint(1, 9), 'criterion': ['gini', 'entropy']}\n",
        "rfc_rf = RandomizedSearchCV(estimator=rfc, param_distributions=param_vals, cv=5, scoring='accuracy')\n",
        "\n",
        "rfc_rf.fit(X_train, y_train)\n",
        "\n",
        "print(\"Tuned RandomForestClassifier(): {}\".format(rfc_rf.best_params_))\n",
        "print(\"Best score is {}\".format(rfc_rf.best_score_))"
      ],
      "metadata": {
        "colab": {
          "base_uri": "https://localhost:8080/"
        },
        "id": "1UVVzQ8NFXVn",
        "outputId": "8d20bbc6-9fd6-4465-dd87-f39eda9f951c"
      },
      "id": "1UVVzQ8NFXVn",
      "execution_count": null,
      "outputs": [
        {
          "output_type": "stream",
          "name": "stdout",
          "text": [
            "Tuned RandomForestClassifier(): {'criterion': 'entropy', 'max_depth': 80, 'max_features': 1, 'min_samples_leaf': 7, 'n_estimators': 400}\n",
            "Best score is 0.6573061224489796\n"
          ]
        }
      ]
    },
    {
      "cell_type": "code",
      "source": [
        "from scipy.stats import randint\n",
        "from sklearn.model_selection import RandomizedSearchCV\n",
        "term_tree = DecisionTreeClassifier()\n",
        "param_vals = {'max_depth': [80, None], 'max_features': randint(1, 9), 'min_samples_leaf': randint(1, 9), 'criterion': ['gini', 'entropy']}\n",
        "\n",
        "term_tree_rf = RandomizedSearchCV(estimator=term_tree, param_distributions=param_vals, cv=5, scoring='accuracy')\n",
        "\n",
        "\n",
        "term_tree_rf.fit(X_train, y_train)\n",
        "\n",
        "print(\"Tuned DecisionTreeClassifier(): {}\".format(term_tree_rf.best_params_))\n",
        "print(\"Best score is {}\".format(term_tree_rf.best_score_))"
      ],
      "metadata": {
        "colab": {
          "base_uri": "https://localhost:8080/"
        },
        "id": "QXYSyFQU5f-l",
        "outputId": "43c506e1-fd2f-4adf-8246-82ccd6d1f527"
      },
      "id": "QXYSyFQU5f-l",
      "execution_count": null,
      "outputs": [
        {
          "output_type": "stream",
          "name": "stdout",
          "text": [
            "Tuned DecisionTreeClassifier(): {'criterion': 'gini', 'max_depth': None, 'max_features': 3, 'min_samples_leaf': 2}\n",
            "Best score is 0.641469387755102\n"
          ]
        }
      ]
    }
  ],
  "metadata": {
    "kernelspec": {
      "display_name": "Python 3 (ipykernel)",
      "language": "python",
      "name": "python3"
    },
    "language_info": {
      "codemirror_mode": {
        "name": "ipython",
        "version": 3
      },
      "file_extension": ".py",
      "mimetype": "text/x-python",
      "name": "python",
      "nbconvert_exporter": "python",
      "pygments_lexer": "ipython3",
      "version": "3.9.12"
    },
    "colab": {
      "provenance": []
    }
  },
  "nbformat": 4,
  "nbformat_minor": 5
}